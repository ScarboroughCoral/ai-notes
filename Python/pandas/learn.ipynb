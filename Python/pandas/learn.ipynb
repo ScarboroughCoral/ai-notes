{
 "cells": [
  {
   "cell_type": "code",
   "execution_count": 3,
   "id": "c2ce1ecf-d495-4ac9-815b-7015111b5550",
   "metadata": {},
   "outputs": [],
   "source": [
    "import pandas as pd"
   ]
  },
  {
   "cell_type": "code",
   "execution_count": 9,
   "id": "c8a2aac0-7bfd-4158-b54d-cc5b664bd145",
   "metadata": {},
   "outputs": [
    {
     "data": {
      "text/plain": [
       "0    1\n",
       "1    2\n",
       "2    3\n",
       "3    4\n",
       "4    5\n",
       "5    6\n",
       "6    7\n",
       "7    8\n",
       "8    9\n",
       "dtype: int64"
      ]
     },
     "execution_count": 9,
     "metadata": {},
     "output_type": "execute_result"
    }
   ],
   "source": [
    "pd.Series(range(1,10))"
   ]
  },
  {
   "cell_type": "code",
   "execution_count": 23,
   "id": "7e8a9635-c0a2-4db6-8896-0c14b8b41548",
   "metadata": {},
   "outputs": [
    {
     "data": {
      "text/html": [
       "<div>\n",
       "<style scoped>\n",
       "    .dataframe tbody tr th:only-of-type {\n",
       "        vertical-align: middle;\n",
       "    }\n",
       "\n",
       "    .dataframe tbody tr th {\n",
       "        vertical-align: top;\n",
       "    }\n",
       "\n",
       "    .dataframe thead th {\n",
       "        text-align: right;\n",
       "    }\n",
       "</style>\n",
       "<table border=\"1\" class=\"dataframe\">\n",
       "  <thead>\n",
       "    <tr style=\"text-align: right;\">\n",
       "      <th></th>\n",
       "      <th>product</th>\n",
       "      <th>userid</th>\n",
       "    </tr>\n",
       "  </thead>\n",
       "  <tbody>\n",
       "    <tr>\n",
       "      <th>0</th>\n",
       "      <td>p1</td>\n",
       "      <td>u1</td>\n",
       "    </tr>\n",
       "  </tbody>\n",
       "</table>\n",
       "</div>"
      ],
      "text/plain": [
       "  product userid\n",
       "0      p1     u1"
      ]
     },
     "execution_count": 23,
     "metadata": {},
     "output_type": "execute_result"
    }
   ],
   "source": [
    "pd.DataFrame([[\"p1\",\"u1\"]], columns=['product','userid'])"
   ]
  },
  {
   "cell_type": "code",
   "execution_count": 29,
   "id": "c6c65bea-1f77-41ac-9e6a-60c6470d4322",
   "metadata": {},
   "outputs": [
    {
     "data": {
      "text/html": [
       "<div>\n",
       "<style scoped>\n",
       "    .dataframe tbody tr th:only-of-type {\n",
       "        vertical-align: middle;\n",
       "    }\n",
       "\n",
       "    .dataframe tbody tr th {\n",
       "        vertical-align: top;\n",
       "    }\n",
       "\n",
       "    .dataframe thead th {\n",
       "        text-align: right;\n",
       "    }\n",
       "</style>\n",
       "<table border=\"1\" class=\"dataframe\">\n",
       "  <thead>\n",
       "    <tr style=\"text-align: right;\">\n",
       "      <th></th>\n",
       "      <th>苹并</th>\n",
       "      <th>香蕉</th>\n",
       "    </tr>\n",
       "  </thead>\n",
       "  <tbody>\n",
       "    <tr>\n",
       "      <th>1进</th>\n",
       "      <td>88</td>\n",
       "      <td>70</td>\n",
       "    </tr>\n",
       "    <tr>\n",
       "      <th>2进</th>\n",
       "      <td>99</td>\n",
       "      <td>90</td>\n",
       "    </tr>\n",
       "    <tr>\n",
       "      <th>3进</th>\n",
       "      <td>92</td>\n",
       "      <td>95</td>\n",
       "    </tr>\n",
       "  </tbody>\n",
       "</table>\n",
       "</div>"
      ],
      "text/plain": [
       "    苹并  香蕉\n",
       "1进  88  70\n",
       "2进  99  90\n",
       "3进  92  95"
      ]
     },
     "execution_count": 29,
     "metadata": {},
     "output_type": "execute_result"
    }
   ],
   "source": [
    "df = pd.DataFrame({ \"苹并\":[88, 99, 92], \"香蕉\":[70, 90, 95],}, index=[\"1进\",\"2进\", \"3进\"])\n",
    "df"
   ]
  },
  {
   "cell_type": "code",
   "execution_count": 35,
   "id": "6566faec-a9f1-44d8-9bdd-f10a4f23e3f9",
   "metadata": {},
   "outputs": [
    {
     "data": {
      "text/html": [
       "<div>\n",
       "<style scoped>\n",
       "    .dataframe tbody tr th:only-of-type {\n",
       "        vertical-align: middle;\n",
       "    }\n",
       "\n",
       "    .dataframe tbody tr th {\n",
       "        vertical-align: top;\n",
       "    }\n",
       "\n",
       "    .dataframe thead th {\n",
       "        text-align: right;\n",
       "    }\n",
       "</style>\n",
       "<table border=\"1\" class=\"dataframe\">\n",
       "  <thead>\n",
       "    <tr style=\"text-align: right;\">\n",
       "      <th></th>\n",
       "      <th>苹并</th>\n",
       "      <th>香蕉</th>\n",
       "    </tr>\n",
       "  </thead>\n",
       "  <tbody>\n",
       "    <tr>\n",
       "      <th>3进</th>\n",
       "      <td>92</td>\n",
       "      <td>95</td>\n",
       "    </tr>\n",
       "  </tbody>\n",
       "</table>\n",
       "</div>"
      ],
      "text/plain": [
       "    苹并  香蕉\n",
       "3进  92  95"
      ]
     },
     "execution_count": 35,
     "metadata": {},
     "output_type": "execute_result"
    }
   ],
   "source": [
    "df[df[\"香蕉\"]>90]"
   ]
  },
  {
   "cell_type": "code",
   "execution_count": 41,
   "id": "fe464cbc-e6b7-45d5-b6f8-b39649c4fde4",
   "metadata": {},
   "outputs": [
    {
     "data": {
      "text/plain": [
       "苹并    279\n",
       "香蕉    255\n",
       "dtype: int64"
      ]
     },
     "execution_count": 41,
     "metadata": {},
     "output_type": "execute_result"
    }
   ],
   "source": [
    "df.sum()"
   ]
  },
  {
   "cell_type": "code",
   "execution_count": 6,
   "id": "e945cb04-c4f6-4a39-b6df-08534ff658fa",
   "metadata": {},
   "outputs": [],
   "source": [
    "import pandas as pd"
   ]
  },
  {
   "cell_type": "code",
   "execution_count": 8,
   "id": "4c2a0fc1-2e0a-44bb-81cc-a5c302f8acc7",
   "metadata": {},
   "outputs": [],
   "source": [
    "a1 = pd.DataFrame({'a':[1,2],'b':[3,4]})\n",
    "a2 = pd.DataFrame({'a':[5,6],'b':[7,7]})"
   ]
  },
  {
   "cell_type": "code",
   "execution_count": 10,
   "id": "9d9c012a-8d15-4b5f-a9b0-320091e19935",
   "metadata": {},
   "outputs": [],
   "source": [
    "df1 = pd.DataFrame({ \"苹宋\":[88, 99, 92], \"香蕉\":[70, 90, 95],}, index=[\"1染\",\"2染\", \"3染\"] )\n",
    "df2 = pd.DataFrame({ \"眼竹\":[88, 99, 92], \"杆瓜\":[70, 90, 95],}, index=[\"1染\",\"2染\", \"3染\"] ) "
   ]
  },
  {
   "cell_type": "code",
   "execution_count": null,
   "id": "5f591828-e17e-449e-ae4e-6c3bf65330f4",
   "metadata": {},
   "outputs": [],
   "source": []
  },
  {
   "cell_type": "code",
   "execution_count": 14,
   "id": "23c218f3-cb1b-4738-87ae-c586cf4f1f5d",
   "metadata": {},
   "outputs": [
    {
     "data": {
      "text/html": [
       "<div>\n",
       "<style scoped>\n",
       "    .dataframe tbody tr th:only-of-type {\n",
       "        vertical-align: middle;\n",
       "    }\n",
       "\n",
       "    .dataframe tbody tr th {\n",
       "        vertical-align: top;\n",
       "    }\n",
       "\n",
       "    .dataframe thead th {\n",
       "        text-align: right;\n",
       "    }\n",
       "</style>\n",
       "<table border=\"1\" class=\"dataframe\">\n",
       "  <thead>\n",
       "    <tr style=\"text-align: right;\">\n",
       "      <th></th>\n",
       "      <th>苹宋</th>\n",
       "      <th>香蕉</th>\n",
       "    </tr>\n",
       "  </thead>\n",
       "  <tbody>\n",
       "    <tr>\n",
       "      <th>1染</th>\n",
       "      <td>88</td>\n",
       "      <td>70</td>\n",
       "    </tr>\n",
       "    <tr>\n",
       "      <th>2染</th>\n",
       "      <td>99</td>\n",
       "      <td>90</td>\n",
       "    </tr>\n",
       "    <tr>\n",
       "      <th>3染</th>\n",
       "      <td>92</td>\n",
       "      <td>95</td>\n",
       "    </tr>\n",
       "  </tbody>\n",
       "</table>\n",
       "</div>"
      ],
      "text/plain": [
       "    苹宋  香蕉\n",
       "1染  88  70\n",
       "2染  99  90\n",
       "3染  92  95"
      ]
     },
     "execution_count": 14,
     "metadata": {},
     "output_type": "execute_result"
    }
   ],
   "source": [
    "df1"
   ]
  },
  {
   "cell_type": "code",
   "execution_count": 19,
   "id": "22e2060d-429a-4b8d-b014-06ef145f5630",
   "metadata": {},
   "outputs": [],
   "source": [
    "import numpy as np"
   ]
  },
  {
   "cell_type": "code",
   "execution_count": 37,
   "id": "801827f0-062a-4c10-9b63-5b4f772ff17d",
   "metadata": {},
   "outputs": [],
   "source": [
    "df = pd.DataFrame(np.random.randint(0,100, size=10))"
   ]
  },
  {
   "cell_type": "code",
   "execution_count": 59,
   "id": "4315351e-714f-41df-a7b1-e74b8c920efb",
   "metadata": {},
   "outputs": [
    {
     "data": {
      "text/plain": [
       "0\n",
       "[60, 80)     1\n",
       "[80, 100)    1\n",
       "Name: count, dtype: int64"
      ]
     },
     "execution_count": 59,
     "metadata": {},
     "output_type": "execute_result"
    }
   ],
   "source": [
    "pd.cut(df[0],bins=[60,80,100],right=False).value_counts()"
   ]
  },
  {
   "cell_type": "code",
   "execution_count": 213,
   "id": "2a5917f2-fe7b-41fc-833a-d0438c3d0761",
   "metadata": {},
   "outputs": [],
   "source": [
    "data = pd.read_excel('Coral和Niki的记账.xlsx')\n",
    "import matplotlib.pyplot as plt\n",
    "plt.rcParams['font.sans-serif'] = ['SimHei']  # 指定支持中文的字体\n",
    "plt.rcParams['axes.unicode_minus'] = False    # 解决负号显示问题"
   ]
  },
  {
   "cell_type": "code",
   "execution_count": 219,
   "id": "af21e629-e4b4-43f9-8fab-6f93233b9211",
   "metadata": {},
   "outputs": [
    {
     "data": {
      "text/plain": [
       "([<matplotlib.patches.Wedge at 0x327ac6810>,\n",
       "  <matplotlib.patches.Wedge at 0x327c66090>,\n",
       "  <matplotlib.patches.Wedge at 0x327ac6de0>],\n",
       " [Text(-0.1365768522672377, 1.0914883249145513, 'Coral'),\n",
       "  Text(0.0980176201833885, -1.0956242723368195, 'Niki'),\n",
       "  Text(1.0993163983251926, -0.038774429374608656, '共同')])"
      ]
     },
     "execution_count": 219,
     "metadata": {},
     "output_type": "execute_result"
    },
    {
     "name": "stderr",
     "output_type": "stream",
     "text": [
      "findfont: Generic family 'sans-serif' not found because none of the following families were found: SimHei\n",
      "findfont: Generic family 'sans-serif' not found because none of the following families were found: SimHei\n",
      "findfont: Generic family 'sans-serif' not found because none of the following families were found: SimHei\n",
      "findfont: Generic family 'sans-serif' not found because none of the following families were found: SimHei\n",
      "findfont: Generic family 'sans-serif' not found because none of the following families were found: SimHei\n",
      "findfont: Generic family 'sans-serif' not found because none of the following families were found: SimHei\n",
      "/opt/anaconda3/lib/python3.12/site-packages/IPython/core/events.py:82: UserWarning: Glyph 20849 (\\N{CJK UNIFIED IDEOGRAPH-5171}) missing from font(s) DejaVu Sans.\n",
      "  func(*args, **kwargs)\n",
      "/opt/anaconda3/lib/python3.12/site-packages/IPython/core/events.py:82: UserWarning: Glyph 21516 (\\N{CJK UNIFIED IDEOGRAPH-540C}) missing from font(s) DejaVu Sans.\n",
      "  func(*args, **kwargs)\n",
      "findfont: Generic family 'sans-serif' not found because none of the following families were found: SimHei\n",
      "findfont: Generic family 'sans-serif' not found because none of the following families were found: SimHei\n",
      "findfont: Generic family 'sans-serif' not found because none of the following families were found: SimHei\n",
      "findfont: Generic family 'sans-serif' not found because none of the following families were found: SimHei\n",
      "findfont: Generic family 'sans-serif' not found because none of the following families were found: SimHei\n",
      "findfont: Generic family 'sans-serif' not found because none of the following families were found: SimHei\n",
      "findfont: Generic family 'sans-serif' not found because none of the following families were found: SimHei\n",
      "/opt/anaconda3/lib/python3.12/site-packages/IPython/core/pylabtools.py:170: UserWarning: Glyph 20849 (\\N{CJK UNIFIED IDEOGRAPH-5171}) missing from font(s) DejaVu Sans.\n",
      "  fig.canvas.print_figure(bytes_io, **kw)\n",
      "/opt/anaconda3/lib/python3.12/site-packages/IPython/core/pylabtools.py:170: UserWarning: Glyph 21516 (\\N{CJK UNIFIED IDEOGRAPH-540C}) missing from font(s) DejaVu Sans.\n",
      "  fig.canvas.print_figure(bytes_io, **kw)\n",
      "findfont: Generic family 'sans-serif' not found because none of the following families were found: SimHei\n"
     ]
    },
    {
     "data": {
      "image/png": "[encoded data removed]",
      "text/plain": [
       "<Figure size 640x480 with 1 Axes>"
      ]
     },
     "metadata": {},
     "output_type": "display_data"
    }
   ],
   "source": [
    "result = data.groupby('姓名')['金额'].sum()\n",
    "plt.pie(result, labels=list(result.index))\n"
   ]
  },
  {
   "cell_type": "code",
   "execution_count": 185,
   "id": "2392ecbf-3fae-4996-8153-398740be8e02",
   "metadata": {},
   "outputs": [
    {
     "data": {
      "text/html": [
       "<div>\n",
       "<style scoped>\n",
       "    .dataframe tbody tr th:only-of-type {\n",
       "        vertical-align: middle;\n",
       "    }\n",
       "\n",
       "    .dataframe tbody tr th {\n",
       "        vertical-align: top;\n",
       "    }\n",
       "\n",
       "    .dataframe thead th {\n",
       "        text-align: right;\n",
       "    }\n",
       "</style>\n",
       "<table border=\"1\" class=\"dataframe\">\n",
       "  <thead>\n",
       "    <tr style=\"text-align: right;\">\n",
       "      <th></th>\n",
       "      <th>金额</th>\n",
       "    </tr>\n",
       "    <tr>\n",
       "      <th>姓名</th>\n",
       "      <th></th>\n",
       "    </tr>\n",
       "  </thead>\n",
       "  <tbody>\n",
       "    <tr>\n",
       "      <th>Coral</th>\n",
       "      <td>56712.98</td>\n",
       "    </tr>\n",
       "    <tr>\n",
       "      <th>Niki</th>\n",
       "      <td>47204.80</td>\n",
       "    </tr>\n",
       "    <tr>\n",
       "      <th>共同</th>\n",
       "      <td>1179.46</td>\n",
       "    </tr>\n",
       "  </tbody>\n",
       "</table>\n",
       "</div>"
      ],
      "text/plain": [
       "             金额\n",
       "姓名             \n",
       "Coral  56712.98\n",
       "Niki   47204.80\n",
       "共同      1179.46"
      ]
     },
     "execution_count": 185,
     "metadata": {},
     "output_type": "execute_result"
    }
   ],
   "source": [
    "result"
   ]
  },
  {
   "cell_type": "code",
   "execution_count": 77,
   "id": "29cc4fc5-a89e-4546-905c-97321cde65b3",
   "metadata": {},
   "outputs": [
    {
     "data": {
      "text/html": [
       "<div>\n",
       "<style scoped>\n",
       "    .dataframe tbody tr th:only-of-type {\n",
       "        vertical-align: middle;\n",
       "    }\n",
       "\n",
       "    .dataframe tbody tr th {\n",
       "        vertical-align: top;\n",
       "    }\n",
       "\n",
       "    .dataframe thead th {\n",
       "        text-align: right;\n",
       "    }\n",
       "</style>\n",
       "<table border=\"1\" class=\"dataframe\">\n",
       "  <thead>\n",
       "    <tr style=\"text-align: right;\">\n",
       "      <th></th>\n",
       "      <th>姓名</th>\n",
       "      <th>类别</th>\n",
       "      <th>金额</th>\n",
       "      <th>备注</th>\n",
       "      <th>日期</th>\n",
       "    </tr>\n",
       "  </thead>\n",
       "  <tbody>\n",
       "    <tr>\n",
       "      <th>28</th>\n",
       "      <td>Coral</td>\n",
       "      <td>交通</td>\n",
       "      <td>1.5</td>\n",
       "      <td>NaN</td>\n",
       "      <td>2025-04-30</td>\n",
       "    </tr>\n",
       "    <tr>\n",
       "      <th>23</th>\n",
       "      <td>Coral</td>\n",
       "      <td>交通</td>\n",
       "      <td>2.4</td>\n",
       "      <td>NaN</td>\n",
       "      <td>2025-04-30</td>\n",
       "    </tr>\n",
       "    <tr>\n",
       "      <th>5</th>\n",
       "      <td>Coral</td>\n",
       "      <td>交通</td>\n",
       "      <td>2.4</td>\n",
       "      <td>NaN</td>\n",
       "      <td>2025-04-28</td>\n",
       "    </tr>\n",
       "    <tr>\n",
       "      <th>31</th>\n",
       "      <td>Coral</td>\n",
       "      <td>交通</td>\n",
       "      <td>2.4</td>\n",
       "      <td>NaN</td>\n",
       "      <td>2025-04-30</td>\n",
       "    </tr>\n",
       "    <tr>\n",
       "      <th>20</th>\n",
       "      <td>Coral</td>\n",
       "      <td>交通</td>\n",
       "      <td>2.4</td>\n",
       "      <td>NaN</td>\n",
       "      <td>2025-04-29</td>\n",
       "    </tr>\n",
       "    <tr>\n",
       "      <th>...</th>\n",
       "      <td>...</td>\n",
       "      <td>...</td>\n",
       "      <td>...</td>\n",
       "      <td>...</td>\n",
       "      <td>...</td>\n",
       "    </tr>\n",
       "    <tr>\n",
       "      <th>2</th>\n",
       "      <td>Niki</td>\n",
       "      <td>学习</td>\n",
       "      <td>9500.0</td>\n",
       "      <td>2个月健身卡</td>\n",
       "      <td>2025-02-01</td>\n",
       "    </tr>\n",
       "    <tr>\n",
       "      <th>63</th>\n",
       "      <td>Niki</td>\n",
       "      <td>住</td>\n",
       "      <td>10600.0</td>\n",
       "      <td>2个月房租</td>\n",
       "      <td>2025-01-01</td>\n",
       "    </tr>\n",
       "    <tr>\n",
       "      <th>4</th>\n",
       "      <td>Niki</td>\n",
       "      <td>娱乐</td>\n",
       "      <td>11000.0</td>\n",
       "      <td>迪拜</td>\n",
       "      <td>2025-02-01</td>\n",
       "    </tr>\n",
       "    <tr>\n",
       "      <th>21</th>\n",
       "      <td>Coral</td>\n",
       "      <td>学习</td>\n",
       "      <td>12900.0</td>\n",
       "      <td>学习ai课</td>\n",
       "      <td>2025-03-29</td>\n",
       "    </tr>\n",
       "    <tr>\n",
       "      <th>58</th>\n",
       "      <td>Coral</td>\n",
       "      <td>住</td>\n",
       "      <td>31800.0</td>\n",
       "      <td>6个月房租</td>\n",
       "      <td>2025-01-01</td>\n",
       "    </tr>\n",
       "  </tbody>\n",
       "</table>\n",
       "<p>70 rows × 5 columns</p>\n",
       "</div>"
      ],
      "text/plain": [
       "       姓名  类别       金额      备注         日期\n",
       "28  Coral  交通      1.5     NaN 2025-04-30\n",
       "23  Coral  交通      2.4     NaN 2025-04-30\n",
       "5   Coral  交通      2.4     NaN 2025-04-28\n",
       "31  Coral  交通      2.4     NaN 2025-04-30\n",
       "20  Coral  交通      2.4     NaN 2025-04-29\n",
       "..    ...  ..      ...     ...        ...\n",
       "2    Niki  学习   9500.0  2个月健身卡 2025-02-01\n",
       "63   Niki   住  10600.0   2个月房租 2025-01-01\n",
       "4    Niki  娱乐  11000.0      迪拜 2025-02-01\n",
       "21  Coral  学习  12900.0   学习ai课 2025-03-29\n",
       "58  Coral   住  31800.0   6个月房租 2025-01-01\n",
       "\n",
       "[70 rows x 5 columns]"
      ]
     },
     "execution_count": 77,
     "metadata": {},
     "output_type": "execute_result"
    }
   ],
   "source": [
    "data.sort_values(by=['金额'])"
   ]
  },
  {
   "cell_type": "code",
   "execution_count": 81,
   "id": "efa1a187-60a3-4482-a9bb-50f21d26e6e4",
   "metadata": {},
   "outputs": [],
   "source": []
  },
  {
   "cell_type": "code",
   "execution_count": 99,
   "id": "46292216-b199-4204-95d8-1eec0ec43d3d",
   "metadata": {},
   "outputs": [
    {
     "data": {
      "text/plain": [
       "0    abcd****\n",
       "1    a*b*c*r*\n",
       "Name: pwd, dtype: object"
      ]
     },
     "execution_count": 99,
     "metadata": {},
     "output_type": "execute_result"
    }
   ],
   "source": []
  }
 ],
 "metadata": {
  "kernelspec": {
   "display_name": "Python [conda env:base] *",
   "language": "python",
   "name": "conda-base-py"
  },
  "language_info": {
   "codemirror_mode": {
    "name": "ipython",
    "version": 3
   },
   "file_extension": ".py",
   "mimetype": "text/x-python",
   "name": "python",
   "nbconvert_exporter": "python",
   "pygments_lexer": "ipython3",
   "version": "3.12.7"
  }
 },
 "nbformat": 4,
 "nbformat_minor": 5
}
