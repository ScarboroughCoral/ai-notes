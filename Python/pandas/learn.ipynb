{
 "cells": [
  {
   "cell_type": "code",
   "execution_count": 3,
   "id": "c2ce1ecf-d495-4ac9-815b-7015111b5550",
   "metadata": {},
   "outputs": [],
   "source": [
    "import pandas as pd"
   ]
  },
  {
   "cell_type": "code",
   "execution_count": 9,
   "id": "c8a2aac0-7bfd-4158-b54d-cc5b664bd145",
   "metadata": {},
   "outputs": [
    {
     "data": {
      "text/plain": [
       "0    1\n",
       "1    2\n",
       "2    3\n",
       "3    4\n",
       "4    5\n",
       "5    6\n",
       "6    7\n",
       "7    8\n",
       "8    9\n",
       "dtype: int64"
      ]
     },
     "execution_count": 9,
     "metadata": {},
     "output_type": "execute_result"
    }
   ],
   "source": [
    "pd.Series(range(1,10))"
   ]
  },
  {
   "cell_type": "code",
   "execution_count": 23,
   "id": "7e8a9635-c0a2-4db6-8896-0c14b8b41548",
   "metadata": {},
   "outputs": [
    {
     "data": {
      "text/html": [
       "<div>\n",
       "<style scoped>\n",
       "    .dataframe tbody tr th:only-of-type {\n",
       "        vertical-align: middle;\n",
       "    }\n",
       "\n",
       "    .dataframe tbody tr th {\n",
       "        vertical-align: top;\n",
       "    }\n",
       "\n",
       "    .dataframe thead th {\n",
       "        text-align: right;\n",
       "    }\n",
       "</style>\n",
       "<table border=\"1\" class=\"dataframe\">\n",
       "  <thead>\n",
       "    <tr style=\"text-align: right;\">\n",
       "      <th></th>\n",
       "      <th>product</th>\n",
       "      <th>userid</th>\n",
       "    </tr>\n",
       "  </thead>\n",
       "  <tbody>\n",
       "    <tr>\n",
       "      <th>0</th>\n",
       "      <td>p1</td>\n",
       "      <td>u1</td>\n",
       "    </tr>\n",
       "  </tbody>\n",
       "</table>\n",
       "</div>"
      ],
      "text/plain": [
       "  product userid\n",
       "0      p1     u1"
      ]
     },
     "execution_count": 23,
     "metadata": {},
     "output_type": "execute_result"
    }
   ],
   "source": [
    "pd.DataFrame([[\"p1\",\"u1\"]], columns=['product','userid'])"
   ]
  },
  {
   "cell_type": "code",
   "execution_count": 29,
   "id": "c6c65bea-1f77-41ac-9e6a-60c6470d4322",
   "metadata": {},
   "outputs": [
    {
     "data": {
      "text/html": [
       "<div>\n",
       "<style scoped>\n",
       "    .dataframe tbody tr th:only-of-type {\n",
       "        vertical-align: middle;\n",
       "    }\n",
       "\n",
       "    .dataframe tbody tr th {\n",
       "        vertical-align: top;\n",
       "    }\n",
       "\n",
       "    .dataframe thead th {\n",
       "        text-align: right;\n",
       "    }\n",
       "</style>\n",
       "<table border=\"1\" class=\"dataframe\">\n",
       "  <thead>\n",
       "    <tr style=\"text-align: right;\">\n",
       "      <th></th>\n",
       "      <th>苹并</th>\n",
       "      <th>香蕉</th>\n",
       "    </tr>\n",
       "  </thead>\n",
       "  <tbody>\n",
       "    <tr>\n",
       "      <th>1进</th>\n",
       "      <td>88</td>\n",
       "      <td>70</td>\n",
       "    </tr>\n",
       "    <tr>\n",
       "      <th>2进</th>\n",
       "      <td>99</td>\n",
       "      <td>90</td>\n",
       "    </tr>\n",
       "    <tr>\n",
       "      <th>3进</th>\n",
       "      <td>92</td>\n",
       "      <td>95</td>\n",
       "    </tr>\n",
       "  </tbody>\n",
       "</table>\n",
       "</div>"
      ],
      "text/plain": [
       "    苹并  香蕉\n",
       "1进  88  70\n",
       "2进  99  90\n",
       "3进  92  95"
      ]
     },
     "execution_count": 29,
     "metadata": {},
     "output_type": "execute_result"
    }
   ],
   "source": [
    "df = pd.DataFrame({ \"苹并\":[88, 99, 92], \"香蕉\":[70, 90, 95],}, index=[\"1进\",\"2进\", \"3进\"])\n",
    "df"
   ]
  },
  {
   "cell_type": "code",
   "execution_count": 35,
   "id": "6566faec-a9f1-44d8-9bdd-f10a4f23e3f9",
   "metadata": {},
   "outputs": [
    {
     "data": {
      "text/html": [
       "<div>\n",
       "<style scoped>\n",
       "    .dataframe tbody tr th:only-of-type {\n",
       "        vertical-align: middle;\n",
       "    }\n",
       "\n",
       "    .dataframe tbody tr th {\n",
       "        vertical-align: top;\n",
       "    }\n",
       "\n",
       "    .dataframe thead th {\n",
       "        text-align: right;\n",
       "    }\n",
       "</style>\n",
       "<table border=\"1\" class=\"dataframe\">\n",
       "  <thead>\n",
       "    <tr style=\"text-align: right;\">\n",
       "      <th></th>\n",
       "      <th>苹并</th>\n",
       "      <th>香蕉</th>\n",
       "    </tr>\n",
       "  </thead>\n",
       "  <tbody>\n",
       "    <tr>\n",
       "      <th>3进</th>\n",
       "      <td>92</td>\n",
       "      <td>95</td>\n",
       "    </tr>\n",
       "  </tbody>\n",
       "</table>\n",
       "</div>"
      ],
      "text/plain": [
       "    苹并  香蕉\n",
       "3进  92  95"
      ]
     },
     "execution_count": 35,
     "metadata": {},
     "output_type": "execute_result"
    }
   ],
   "source": [
    "df[df[\"香蕉\"]>90]"
   ]
  },
  {
   "cell_type": "code",
   "execution_count": 41,
   "id": "fe464cbc-e6b7-45d5-b6f8-b39649c4fde4",
   "metadata": {},
   "outputs": [
    {
     "data": {
      "text/plain": [
       "苹并    279\n",
       "香蕉    255\n",
       "dtype: int64"
      ]
     },
     "execution_count": 41,
     "metadata": {},
     "output_type": "execute_result"
    }
   ],
   "source": [
    "df.sum()"
   ]
  },
  {
   "cell_type": "code",
   "execution_count": 6,
   "id": "e945cb04-c4f6-4a39-b6df-08534ff658fa",
   "metadata": {},
   "outputs": [],
   "source": [
    "import pandas as pd"
   ]
  },
  {
   "cell_type": "code",
   "execution_count": 8,
   "id": "4c2a0fc1-2e0a-44bb-81cc-a5c302f8acc7",
   "metadata": {},
   "outputs": [],
   "source": [
    "a1 = pd.DataFrame({'a':[1,2],'b':[3,4]})\n",
    "a2 = pd.DataFrame({'a':[5,6],'b':[7,7]})"
   ]
  },
  {
   "cell_type": "code",
   "execution_count": 10,
   "id": "9d9c012a-8d15-4b5f-a9b0-320091e19935",
   "metadata": {},
   "outputs": [],
   "source": [
    "df1 = pd.DataFrame({ \"苹宋\":[88, 99, 92], \"香蕉\":[70, 90, 95],}, index=[\"1染\",\"2染\", \"3染\"] )\n",
    "df2 = pd.DataFrame({ \"眼竹\":[88, 99, 92], \"杆瓜\":[70, 90, 95],}, index=[\"1染\",\"2染\", \"3染\"] ) "
   ]
  },
  {
   "cell_type": "code",
   "execution_count": null,
   "id": "5f591828-e17e-449e-ae4e-6c3bf65330f4",
   "metadata": {},
   "outputs": [],
   "source": []
  },
  {
   "cell_type": "code",
   "execution_count": 14,
   "id": "23c218f3-cb1b-4738-87ae-c586cf4f1f5d",
   "metadata": {},
   "outputs": [
    {
     "data": {
      "text/html": [
       "<div>\n",
       "<style scoped>\n",
       "    .dataframe tbody tr th:only-of-type {\n",
       "        vertical-align: middle;\n",
       "    }\n",
       "\n",
       "    .dataframe tbody tr th {\n",
       "        vertical-align: top;\n",
       "    }\n",
       "\n",
       "    .dataframe thead th {\n",
       "        text-align: right;\n",
       "    }\n",
       "</style>\n",
       "<table border=\"1\" class=\"dataframe\">\n",
       "  <thead>\n",
       "    <tr style=\"text-align: right;\">\n",
       "      <th></th>\n",
       "      <th>苹宋</th>\n",
       "      <th>香蕉</th>\n",
       "    </tr>\n",
       "  </thead>\n",
       "  <tbody>\n",
       "    <tr>\n",
       "      <th>1染</th>\n",
       "      <td>88</td>\n",
       "      <td>70</td>\n",
       "    </tr>\n",
       "    <tr>\n",
       "      <th>2染</th>\n",
       "      <td>99</td>\n",
       "      <td>90</td>\n",
       "    </tr>\n",
       "    <tr>\n",
       "      <th>3染</th>\n",
       "      <td>92</td>\n",
       "      <td>95</td>\n",
       "    </tr>\n",
       "  </tbody>\n",
       "</table>\n",
       "</div>"
      ],
      "text/plain": [
       "    苹宋  香蕉\n",
       "1染  88  70\n",
       "2染  99  90\n",
       "3染  92  95"
      ]
     },
     "execution_count": 14,
     "metadata": {},
     "output_type": "execute_result"
    }
   ],
   "source": [
    "df1"
   ]
  },
  {
   "cell_type": "code",
   "execution_count": 19,
   "id": "22e2060d-429a-4b8d-b014-06ef145f5630",
   "metadata": {},
   "outputs": [],
   "source": [
    "import numpy as np"
   ]
  },
  {
   "cell_type": "code",
   "execution_count": 37,
   "id": "801827f0-062a-4c10-9b63-5b4f772ff17d",
   "metadata": {},
   "outputs": [],
   "source": [
    "df = pd.DataFrame(np.random.randint(0,100, size=10))"
   ]
  },
  {
   "cell_type": "code",
   "execution_count": 59,
   "id": "4315351e-714f-41df-a7b1-e74b8c920efb",
   "metadata": {},
   "outputs": [
    {
     "data": {
      "text/plain": [
       "0\n",
       "[60, 80)     1\n",
       "[80, 100)    1\n",
       "Name: count, dtype: int64"
      ]
     },
     "execution_count": 59,
     "metadata": {},
     "output_type": "execute_result"
    }
   ],
   "source": [
    "pd.cut(df[0],bins=[60,80,100],right=False).value_counts()"
   ]
  },
  {
   "cell_type": "code",
   "execution_count": 213,
   "id": "2a5917f2-fe7b-41fc-833a-d0438c3d0761",
   "metadata": {},
   "outputs": [],
   "source": [
    "data = pd.read_excel('Coral和Niki的记账.xlsx')\n",
    "import matplotlib.pyplot as plt\n",
    "plt.rcParams['font.sans-serif'] = ['SimHei']  # 指定支持中文的字体\n",
    "plt.rcParams['axes.unicode_minus'] = False    # 解决负号显示问题"
   ]
  },
  {
   "cell_type": "code",
   "execution_count": null,
   "id": "c600b244-4f9d-4518-96b1-266511786daf",
   "metadata": {},
   "outputs": [],
   "source": [
    "result"
   ]
  },
  {
   "cell_type": "code",
   "execution_count": 77,
   "id": "29cc4fc5-a89e-4546-905c-97321cde65b3",
   "metadata": {},
   "outputs": [
    {
     "data": {
      "text/html": [
       "<div>\n",
       "<style scoped>\n",
       "    .dataframe tbody tr th:only-of-type {\n",
       "        vertical-align: middle;\n",
       "    }\n",
       "\n",
       "    .dataframe tbody tr th {\n",
       "        vertical-align: top;\n",
       "    }\n",
       "\n",
       "    .dataframe thead th {\n",
       "        text-align: right;\n",
       "    }\n",
       "</style>\n",
       "<table border=\"1\" class=\"dataframe\">\n",
       "  <thead>\n",
       "    <tr style=\"text-align: right;\">\n",
       "      <th></th>\n",
       "      <th>姓名</th>\n",
       "      <th>类别</th>\n",
       "      <th>金额</th>\n",
       "      <th>备注</th>\n",
       "      <th>日期</th>\n",
       "    </tr>\n",
       "  </thead>\n",
       "  <tbody>\n",
       "    <tr>\n",
       "      <th>28</th>\n",
       "      <td>Coral</td>\n",
       "      <td>交通</td>\n",
       "      <td>1.5</td>\n",
       "      <td>NaN</td>\n",
       "      <td>2025-04-30</td>\n",
       "    </tr>\n",
       "    <tr>\n",
       "      <th>23</th>\n",
       "      <td>Coral</td>\n",
       "      <td>交通</td>\n",
       "      <td>2.4</td>\n",
       "      <td>NaN</td>\n",
       "      <td>2025-04-30</td>\n",
       "    </tr>\n",
       "    <tr>\n",
       "      <th>5</th>\n",
       "      <td>Coral</td>\n",
       "      <td>交通</td>\n",
       "      <td>2.4</td>\n",
       "      <td>NaN</td>\n",
       "      <td>2025-04-28</td>\n",
       "    </tr>\n",
       "    <tr>\n",
       "      <th>31</th>\n",
       "      <td>Coral</td>\n",
       "      <td>交通</td>\n",
       "      <td>2.4</td>\n",
       "      <td>NaN</td>\n",
       "      <td>2025-04-30</td>\n",
       "    </tr>\n",
       "    <tr>\n",
       "      <th>20</th>\n",
       "      <td>Coral</td>\n",
       "      <td>交通</td>\n",
       "      <td>2.4</td>\n",
       "      <td>NaN</td>\n",
       "      <td>2025-04-29</td>\n",
       "    </tr>\n",
       "    <tr>\n",
       "      <th>...</th>\n",
       "      <td>...</td>\n",
       "      <td>...</td>\n",
       "      <td>...</td>\n",
       "      <td>...</td>\n",
       "      <td>...</td>\n",
       "    </tr>\n",
       "    <tr>\n",
       "      <th>2</th>\n",
       "      <td>Niki</td>\n",
       "      <td>学习</td>\n",
       "      <td>9500.0</td>\n",
       "      <td>2个月健身卡</td>\n",
       "      <td>2025-02-01</td>\n",
       "    </tr>\n",
       "    <tr>\n",
       "      <th>63</th>\n",
       "      <td>Niki</td>\n",
       "      <td>住</td>\n",
       "      <td>10600.0</td>\n",
       "      <td>2个月房租</td>\n",
       "      <td>2025-01-01</td>\n",
       "    </tr>\n",
       "    <tr>\n",
       "      <th>4</th>\n",
       "      <td>Niki</td>\n",
       "      <td>娱乐</td>\n",
       "      <td>11000.0</td>\n",
       "      <td>迪拜</td>\n",
       "      <td>2025-02-01</td>\n",
       "    </tr>\n",
       "    <tr>\n",
       "      <th>21</th>\n",
       "      <td>Coral</td>\n",
       "      <td>学习</td>\n",
       "      <td>12900.0</td>\n",
       "      <td>学习ai课</td>\n",
       "      <td>2025-03-29</td>\n",
       "    </tr>\n",
       "    <tr>\n",
       "      <th>58</th>\n",
       "      <td>Coral</td>\n",
       "      <td>住</td>\n",
       "      <td>31800.0</td>\n",
       "      <td>6个月房租</td>\n",
       "      <td>2025-01-01</td>\n",
       "    </tr>\n",
       "  </tbody>\n",
       "</table>\n",
       "<p>70 rows × 5 columns</p>\n",
       "</div>"
      ],
      "text/plain": [
       "       姓名  类别       金额      备注         日期\n",
       "28  Coral  交通      1.5     NaN 2025-04-30\n",
       "23  Coral  交通      2.4     NaN 2025-04-30\n",
       "5   Coral  交通      2.4     NaN 2025-04-28\n",
       "31  Coral  交通      2.4     NaN 2025-04-30\n",
       "20  Coral  交通      2.4     NaN 2025-04-29\n",
       "..    ...  ..      ...     ...        ...\n",
       "2    Niki  学习   9500.0  2个月健身卡 2025-02-01\n",
       "63   Niki   住  10600.0   2个月房租 2025-01-01\n",
       "4    Niki  娱乐  11000.0      迪拜 2025-02-01\n",
       "21  Coral  学习  12900.0   学习ai课 2025-03-29\n",
       "58  Coral   住  31800.0   6个月房租 2025-01-01\n",
       "\n",
       "[70 rows x 5 columns]"
      ]
     },
     "execution_count": 77,
     "metadata": {},
     "output_type": "execute_result"
    }
   ],
   "source": [
    "data.sort_values(by=['金额'])"
   ]
  },
  {
   "cell_type": "markdown",
   "id": "160d045a-5473-4baf-b89b-bf468d23bc70",
   "metadata": {},
   "source": [
    "### 数据分析"
   ]
  },
  {
   "cell_type": "code",
   "execution_count": 12,
   "id": "e0c8226a-3b03-4aeb-85b1-f4fd5c656bda",
   "metadata": {},
   "outputs": [],
   "source": [
    "import pandas as pd"
   ]
  },
  {
   "cell_type": "code",
   "execution_count": 14,
   "id": "92f0b8df-948a-47d3-bca6-3f0555d59899",
   "metadata": {},
   "outputs": [],
   "source": [
    "# 导入阿里14年用户行为数据\n",
    "pdata = pd.read_csv(\"user_action.csv\")"
   ]
  },
  {
   "cell_type": "code",
   "execution_count": 15,
   "id": "a7cb06cf-8efd-4452-826e-8ad145e4acd7",
   "metadata": {},
   "outputs": [],
   "source": [
    "pdata['ts'] = pd.to_datetime(pdata['time'])"
   ]
  },
  {
   "cell_type": "code",
   "execution_count": 17,
   "id": "fe0301fe-a8a8-4058-9351-5ce709bfa6e3",
   "metadata": {},
   "outputs": [],
   "source": [
    "pdata['day'] = pdata.ts.map(lambda t: t.date())\n"
   ]
  },
  {
   "cell_type": "code",
   "execution_count": 19,
   "id": "a60ddf69-b4c3-4305-9814-aa98ee03661a",
   "metadata": {},
   "outputs": [],
   "source": [
    "pdata['hour'] = pdata.ts.map(lambda t: t.hour)"
   ]
  },
  {
   "cell_type": "code",
   "execution_count": 64,
   "id": "39643549-866c-4012-a735-aceb039d0aa5",
   "metadata": {},
   "outputs": [],
   "source": [
    "daily_uv = pdata.groupby('day')['user_id'].apply(lambda ids: ids.drop_duplicates().count())\n",
    "daily_pv = pdata.groupby('day')['user_id'].count()"
   ]
  },
  {
   "cell_type": "code",
   "execution_count": null,
   "id": "bf0f212c-b81b-4afc-a27e-05d3df033cdc",
   "metadata": {},
   "outputs": [],
   "source": []
  },
  {
   "cell_type": "code",
   "execution_count": 41,
   "id": "af1feed3-a2da-4824-8633-1866e266dd12",
   "metadata": {},
   "outputs": [],
   "source": [
    "import matplotlib.pyplot as plt"
   ]
  },
  {
   "cell_type": "code",
   "execution_count": 66,
   "id": "817def35-966a-428d-add6-2a19e3791381",
   "metadata": {},
   "outputs": [
    {
     "data": {
      "image/png": "[encoded data removed]",
      "text/plain": [
       "<Figure size 1000x400 with 1 Axes>"
      ]
     },
     "metadata": {},
     "output_type": "display_data"
    },
    {
     "data": {
      "image/png": "[encoded data removed]",
      "text/plain": [
       "<Figure size 1000x400 with 1 Axes>"
      ]
     },
     "metadata": {},
     "output_type": "display_data"
    }
   ],
   "source": [
    "plt.figure(figsize=(10,4))\n",
    "plt.plot(daliy_pv.index.values, daily_pv.values, 'r')\n",
    "plt.xticks(rotation=30)\n",
    "plt.figure(figsize=(10,4))\n",
    "plt.plot(daliy_uv.index.values, daily_uv.values, 'g')\n",
    "plt.xticks(rotation=30)\n",
    "plt.show()"
   ]
  },
  {
   "cell_type": "code",
   "execution_count": 51,
   "id": "da39b46a-043d-4bff-9f66-5db84c67f6cd",
   "metadata": {},
   "outputs": [],
   "source": [
    "paied_data = pdata[pdata['behavior_type'] == 4]"
   ]
  },
  {
   "cell_type": "code",
   "execution_count": 58,
   "id": "fa47757f-acab-4089-8f9c-e7d6f62ad3e5",
   "metadata": {},
   "outputs": [],
   "source": [
    "paied_data_by_user = paied_data.groupby('user_id')['user_id'].count()"
   ]
  },
  {
   "cell_type": "code",
   "execution_count": 76,
   "id": "4ec50ea3-d4c9-45d3-a73c-7369708507bf",
   "metadata": {},
   "outputs": [
    {
     "data": {
      "text/plain": [
       "<Axes: ylabel='Frequency'>"
      ]
     },
     "execution_count": 76,
     "metadata": {},
     "output_type": "execute_result"
    },
    {
     "data": {
      "image/png": "[encoded data removed]",
      "text/plain": [
       "<Figure size 640x480 with 1 Axes>"
      ]
     },
     "metadata": {},
     "output_type": "display_data"
    }
   ],
   "source": [
    "paied_data_by_user.plot.hist(bins=20)"
   ]
  },
  {
   "cell_type": "code",
   "execution_count": 92,
   "id": "b93c6456-3e0f-4600-bb99-b9717032ad68",
   "metadata": {},
   "outputs": [],
   "source": [
    "repaied_data_by_user = paied_data.groupby('user_id')['day'].apply(lambda r: len(r.unique()))"
   ]
  },
  {
   "cell_type": "code",
   "execution_count": 104,
   "id": "fc785856-ed1a-43be-915b-f03cf9243996",
   "metadata": {},
   "outputs": [],
   "source": [
    "repaied_ratio = repaied_data_by_user[repaied_data_by_user>1].count()/repaied_data_by_user.count()"
   ]
  },
  {
   "cell_type": "code",
   "execution_count": 107,
   "id": "21060dfd-d891-4fa5-98fd-f616752b8947",
   "metadata": {},
   "outputs": [
    {
     "data": {
      "text/plain": [
       "0.8717083051991897"
      ]
     },
     "execution_count": 107,
     "metadata": {},
     "output_type": "execute_result"
    }
   ],
   "source": [
    "repaied_ratio"
   ]
  },
  {
   "cell_type": "code",
   "execution_count": 131,
   "id": "4b886094-f714-45cd-8a20-3e8d0f0b9765",
   "metadata": {},
   "outputs": [
    {
     "name": "stderr",
     "output_type": "stream",
     "text": [
      "/var/folders/v1/9611nrm96x3brn82q6bxsw0w0000gn/T/ipykernel_15448/2037472885.py:1: FutureWarning: The behavior of array concatenation with empty entries is deprecated. In a future version, this will no longer exclude empty items when determining the result dtype. To retain the old behavior, exclude the empty entries before the concat operation.\n",
      "  day_interval = paied_data.groupby('user_id')['day'].apply(lambda bds: bds.sort_values().diff(1).dropna()).map(lambda x: x.days)\n"
     ]
    }
   ],
   "source": [
    "day_interval = paied_data.groupby('user_id')['day'].apply(lambda bds: bds.sort_values().diff(1).dropna()).map(lambda x: x.days)"
   ]
  },
  {
   "cell_type": "code",
   "execution_count": 133,
   "id": "26a430b0-0936-4005-985a-41b397edd89e",
   "metadata": {},
   "outputs": [],
   "source": [
    "day_interval = day_interval[day_interval > 0]"
   ]
  },
  {
   "cell_type": "code",
   "execution_count": 135,
   "id": "26c92732-3fca-477a-8f0b-bda64f905ba2",
   "metadata": {},
   "outputs": [
    {
     "data": {
      "text/plain": [
       "Text(0, 0.5, 'gap_count')"
      ]
     },
     "execution_count": 135,
     "metadata": {},
     "output_type": "execute_result"
    },
    {
     "data": {
      "image/png": "[encoded data removed]",
      "text/plain": [
       "<Figure size 640x480 with 1 Axes>"
      ]
     },
     "metadata": {},
     "output_type": "display_data"
    }
   ],
   "source": [
    "day_interval.value_counts().plot.bar()\n",
    "plt.title('times')\n",
    "plt.xlabel('days')\n",
    "plt.ylabel('gap_count')"
   ]
  },
  {
   "cell_type": "code",
   "execution_count": null,
   "id": "24ddc5e2-b62d-4b01-ae0f-a85f99c08696",
   "metadata": {},
   "outputs": [],
   "source": []
  },
  {
   "cell_type": "code",
   "execution_count": null,
   "id": "75c05cf7-71e4-4c34-b50b-16c2aa4b33b9",
   "metadata": {},
   "outputs": [],
   "source": []
  },
  {
   "cell_type": "code",
   "execution_count": 90,
   "id": "7100551b-e281-4311-8cfa-6d97ead40b46",
   "metadata": {},
   "outputs": [
    {
     "data": {
      "text/html": [
       "<div>\n",
       "<style scoped>\n",
       "    .dataframe tbody tr th:only-of-type {\n",
       "        vertical-align: middle;\n",
       "    }\n",
       "\n",
       "    .dataframe tbody tr th {\n",
       "        vertical-align: top;\n",
       "    }\n",
       "\n",
       "    .dataframe thead th {\n",
       "        text-align: right;\n",
       "    }\n",
       "</style>\n",
       "<table border=\"1\" class=\"dataframe\">\n",
       "  <thead>\n",
       "    <tr style=\"text-align: right;\">\n",
       "      <th></th>\n",
       "      <th>user_id</th>\n",
       "      <th>item_id</th>\n",
       "      <th>behavior_type</th>\n",
       "      <th>item_category</th>\n",
       "      <th>time</th>\n",
       "      <th>ts</th>\n",
       "      <th>day</th>\n",
       "      <th>hour</th>\n",
       "    </tr>\n",
       "  </thead>\n",
       "  <tbody>\n",
       "    <tr>\n",
       "      <th>148</th>\n",
       "      <td>101260672</td>\n",
       "      <td>73008997</td>\n",
       "      <td>4</td>\n",
       "      <td>4076</td>\n",
       "      <td>2014-11-25 13</td>\n",
       "      <td>2014-11-25 13:00:00</td>\n",
       "      <td>2014-11-25</td>\n",
       "      <td>13</td>\n",
       "    </tr>\n",
       "    <tr>\n",
       "      <th>152</th>\n",
       "      <td>116730636</td>\n",
       "      <td>85319721</td>\n",
       "      <td>4</td>\n",
       "      <td>10079</td>\n",
       "      <td>2014-12-17 11</td>\n",
       "      <td>2014-12-17 11:00:00</td>\n",
       "      <td>2014-12-17</td>\n",
       "      <td>11</td>\n",
       "    </tr>\n",
       "    <tr>\n",
       "      <th>158</th>\n",
       "      <td>104811265</td>\n",
       "      <td>61764614</td>\n",
       "      <td>4</td>\n",
       "      <td>675</td>\n",
       "      <td>2014-12-01 13</td>\n",
       "      <td>2014-12-01 13:00:00</td>\n",
       "      <td>2014-12-01</td>\n",
       "      <td>13</td>\n",
       "    </tr>\n",
       "    <tr>\n",
       "      <th>185</th>\n",
       "      <td>106230218</td>\n",
       "      <td>238910858</td>\n",
       "      <td>4</td>\n",
       "      <td>12090</td>\n",
       "      <td>2014-12-03 11</td>\n",
       "      <td>2014-12-03 11:00:00</td>\n",
       "      <td>2014-12-03</td>\n",
       "      <td>11</td>\n",
       "    </tr>\n",
       "    <tr>\n",
       "      <th>207</th>\n",
       "      <td>100684618</td>\n",
       "      <td>271840783</td>\n",
       "      <td>4</td>\n",
       "      <td>12220</td>\n",
       "      <td>2014-11-23 18</td>\n",
       "      <td>2014-11-23 18:00:00</td>\n",
       "      <td>2014-11-23</td>\n",
       "      <td>18</td>\n",
       "    </tr>\n",
       "    <tr>\n",
       "      <th>...</th>\n",
       "      <td>...</td>\n",
       "      <td>...</td>\n",
       "      <td>...</td>\n",
       "      <td>...</td>\n",
       "      <td>...</td>\n",
       "      <td>...</td>\n",
       "      <td>...</td>\n",
       "      <td>...</td>\n",
       "    </tr>\n",
       "    <tr>\n",
       "      <th>12256125</th>\n",
       "      <td>60734132</td>\n",
       "      <td>367496336</td>\n",
       "      <td>4</td>\n",
       "      <td>1863</td>\n",
       "      <td>2014-12-15 20</td>\n",
       "      <td>2014-12-15 20:00:00</td>\n",
       "      <td>2014-12-15</td>\n",
       "      <td>20</td>\n",
       "    </tr>\n",
       "    <tr>\n",
       "      <th>12256257</th>\n",
       "      <td>62781637</td>\n",
       "      <td>360496886</td>\n",
       "      <td>4</td>\n",
       "      <td>3988</td>\n",
       "      <td>2014-12-17 10</td>\n",
       "      <td>2014-12-17 10:00:00</td>\n",
       "      <td>2014-12-17</td>\n",
       "      <td>10</td>\n",
       "    </tr>\n",
       "    <tr>\n",
       "      <th>12256278</th>\n",
       "      <td>62781637</td>\n",
       "      <td>162730101</td>\n",
       "      <td>4</td>\n",
       "      <td>7549</td>\n",
       "      <td>2014-12-11 12</td>\n",
       "      <td>2014-12-11 12:00:00</td>\n",
       "      <td>2014-12-11</td>\n",
       "      <td>12</td>\n",
       "    </tr>\n",
       "    <tr>\n",
       "      <th>12256310</th>\n",
       "      <td>62781637</td>\n",
       "      <td>176396353</td>\n",
       "      <td>4</td>\n",
       "      <td>2347</td>\n",
       "      <td>2014-11-28 08</td>\n",
       "      <td>2014-11-28 08:00:00</td>\n",
       "      <td>2014-11-28</td>\n",
       "      <td>8</td>\n",
       "    </tr>\n",
       "    <tr>\n",
       "      <th>12256651</th>\n",
       "      <td>76314785</td>\n",
       "      <td>223093978</td>\n",
       "      <td>4</td>\n",
       "      <td>3628</td>\n",
       "      <td>2014-11-18 15</td>\n",
       "      <td>2014-11-18 15:00:00</td>\n",
       "      <td>2014-11-18</td>\n",
       "      <td>15</td>\n",
       "    </tr>\n",
       "  </tbody>\n",
       "</table>\n",
       "<p>120205 rows × 8 columns</p>\n",
       "</div>"
      ],
      "text/plain": [
       "            user_id    item_id  behavior_type  item_category           time  \\\n",
       "148       101260672   73008997              4           4076  2014-11-25 13   \n",
       "152       116730636   85319721              4          10079  2014-12-17 11   \n",
       "158       104811265   61764614              4            675  2014-12-01 13   \n",
       "185       106230218  238910858              4          12090  2014-12-03 11   \n",
       "207       100684618  271840783              4          12220  2014-11-23 18   \n",
       "...             ...        ...            ...            ...            ...   \n",
       "12256125   60734132  367496336              4           1863  2014-12-15 20   \n",
       "12256257   62781637  360496886              4           3988  2014-12-17 10   \n",
       "12256278   62781637  162730101              4           7549  2014-12-11 12   \n",
       "12256310   62781637  176396353              4           2347  2014-11-28 08   \n",
       "12256651   76314785  223093978              4           3628  2014-11-18 15   \n",
       "\n",
       "                          ts         day  hour  \n",
       "148      2014-11-25 13:00:00  2014-11-25    13  \n",
       "152      2014-12-17 11:00:00  2014-12-17    11  \n",
       "158      2014-12-01 13:00:00  2014-12-01    13  \n",
       "185      2014-12-03 11:00:00  2014-12-03    11  \n",
       "207      2014-11-23 18:00:00  2014-11-23    18  \n",
       "...                      ...         ...   ...  \n",
       "12256125 2014-12-15 20:00:00  2014-12-15    20  \n",
       "12256257 2014-12-17 10:00:00  2014-12-17    10  \n",
       "12256278 2014-12-11 12:00:00  2014-12-11    12  \n",
       "12256310 2014-11-28 08:00:00  2014-11-28     8  \n",
       "12256651 2014-11-18 15:00:00  2014-11-18    15  \n",
       "\n",
       "[120205 rows x 8 columns]"
      ]
     },
     "execution_count": 90,
     "metadata": {},
     "output_type": "execute_result"
    }
   ],
   "source": [
    "paied_data"
   ]
  },
  {
   "cell_type": "code",
   "execution_count": 2,
   "id": "0a1ffc82-a4eb-4008-8d91-79d30f4ab0b7",
   "metadata": {},
   "outputs": [
    {
     "ename": "NameError",
     "evalue": "name 'pdata' is not defined",
     "output_type": "error",
     "traceback": [
      "\u001b[0;31m---------------------------------------------------------------------------\u001b[0m",
      "\u001b[0;31mNameError\u001b[0m                                 Traceback (most recent call last)",
      "Cell \u001b[0;32mIn[2], line 1\u001b[0m\n\u001b[0;32m----> 1\u001b[0m pdata\n",
      "\u001b[0;31mNameError\u001b[0m: name 'pdata' is not defined"
     ]
    }
   ],
   "source": [
    "pdata"
   ]
  },
  {
   "cell_type": "code",
   "execution_count": 4,
   "id": "24cd5292-ba04-4385-993f-3396d4610aeb",
   "metadata": {},
   "outputs": [],
   "source": [
    "import seaborn as sns"
   ]
  },
  {
   "cell_type": "code",
   "execution_count": 26,
   "id": "9450bb6c-68c0-46b6-b7e1-5f7a3eac5862",
   "metadata": {},
   "outputs": [],
   "source": [
    "import numpy as np"
   ]
  },
  {
   "cell_type": "code",
   "execution_count": 38,
   "id": "232b9118-bd2a-4bc2-8318-895b8f65ca9c",
   "metadata": {},
   "outputs": [],
   "source": [
    "pdata['num'] = np.ones_like(pdata['hour'])\n"
   ]
  },
  {
   "cell_type": "code",
   "execution_count": 40,
   "id": "0de391b7-2e41-4cfe-ba10-55a834b2a541",
   "metadata": {},
   "outputs": [
    {
     "data": {
      "text/plain": [
       "<Axes: xlabel='day', ylabel='num'>"
      ]
     },
     "execution_count": 40,
     "metadata": {},
     "output_type": "execute_result"
    },
    {
     "data": {
      "image/png": "[encoded data removed]",
      "text/plain": [
       "<Figure size 640x480 with 1 Axes>"
      ]
     },
     "metadata": {},
     "output_type": "display_data"
    }
   ],
   "source": [
    "sns.lineplot(pdata,x='day',y='num',estimator='sum')"
   ]
  }
 ],
 "metadata": {
  "kernelspec": {
   "display_name": "Python [conda env:base] *",
   "language": "python",
   "name": "conda-base-py"
  },
  "language_info": {
   "codemirror_mode": {
    "name": "ipython",
    "version": 3
   },
   "file_extension": ".py",
   "mimetype": "text/x-python",
   "name": "python",
   "nbconvert_exporter": "python",
   "pygments_lexer": "ipython3",
   "version": "3.12.7"
  }
 },
 "nbformat": 4,
 "nbformat_minor": 5
}
