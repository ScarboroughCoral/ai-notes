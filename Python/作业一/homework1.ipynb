{
 "cells": [
  {
   "cell_type": "markdown",
   "id": "ced27604-1e73-4c91-a952-4cfa0a25daca",
   "metadata": {},
   "source": [
    "# 作业1:\n",
    "要求：\n",
    "1. 根据年份创建sheet\n",
    "2. 对应年份数据写入对应sheet\n",
    "3. 使用面向对象\n",
    "4. 使用utf-8-sig编码打开\n",
    "\n",
    "\n",
    "整体流程：\n",
    "1. 读取csv文件\n",
    "2. 代码处理\n",
    "3. 写入Excel\n",
    "\n",
    "面向对象设计：\n",
    "1. 构造函数传入文件路径\n",
    "2. 调用dumpToExcel方法传入路径按照年份导出"
   ]
  },
  {
   "cell_type": "code",
   "execution_count": 5,
   "id": "3a42fa88-e250-4fc8-91de-8957bf1429c0",
   "metadata": {},
   "outputs": [],
   "source": [
    "# 相关常量与路径\n",
    "csv_file_path = \"1686117568248-题目1数据.csv\"\n",
    "excel_out_file_path = '题目1结果.xlsx'"
   ]
  },
  {
   "cell_type": "code",
   "execution_count": 7,
   "id": "87c14a9d-7065-4356-bf39-444fde55a7d8",
   "metadata": {},
   "outputs": [],
   "source": [
    "# 引入相关包\n",
    "import csv\n",
    "import openpyxl"
   ]
  },
  {
   "cell_type": "code",
   "execution_count": 9,
   "id": "3cd79f2f-4c16-4bc3-9fee-19a098b40e85",
   "metadata": {},
   "outputs": [],
   "source": [
    "\n",
    "\n",
    "# 定义处理类\n",
    "class Homework1:\n",
    "    def __init__(self,csv_path,out_excel_path):\n",
    "        self.csv_path = csv_path\n",
    "        self.out_excel_path = out_excel_path\n",
    "    def dump_to_excel(self, field=\"年份\"):\n",
    "        # 打开csv\n",
    "        with open(csv_file_path,encoding=\"utf-8-sig\") as csv_file:\n",
    "            csv_reader = csv.DictReader(csv_file)\n",
    "            fieldnames = csv_reader.fieldnames\n",
    "            excel_wb = openpyxl.Workbook()\n",
    "            field_sheet_map = {}\n",
    "            for record in csv_reader:\n",
    "                field_value = record.get(field)\n",
    "                row = [record.get(field) for field in fieldnames]\n",
    "                if field_value and field_value in field_sheet_map:\n",
    "                    sheet = field_sheet_map[field_value]\n",
    "                    sheet.append(row)\n",
    "                else:\n",
    "                    sheet = excel_wb.create_sheet(field_value)\n",
    "                    field_sheet_map[field_value] = sheet\n",
    "                    sheet.append(fieldnames)\n",
    "                    sheet.append(row)\n",
    "            excel_wb.save(self.out_excel_path)\n",
    "            print(f\"已经成功将【{self.csv_path}】按照【{field}】拆分导出至【{self.out_excel_path}】\")\n",
    "                \n"
   ]
  },
  {
   "cell_type": "code",
   "execution_count": 13,
   "id": "570ecad3-6491-4f58-b991-6467738b0e9e",
   "metadata": {},
   "outputs": [
    {
     "name": "stdout",
     "output_type": "stream",
     "text": [
      "已经成功将【1686117568248-题目1数据.csv】按照【年份】拆分导出至【题目1结果.xlsx】\n"
     ]
    }
   ],
   "source": [
    "homework1 = Homework1(csv_file_path,excel_out_file_path)\n",
    "homework1.dump_to_excel('年份')"
   ]
  },
  {
   "cell_type": "code",
   "execution_count": null,
   "id": "54d83d39-2dcc-443c-a24f-54eee20a2e40",
   "metadata": {},
   "outputs": [],
   "source": [
    "# 临时测试代码\n",
    "# with open(csv_file_path,encoding=\"utf-8-sig\") as csv_file:\n",
    "#     csv_reader = csv.DictReader(csv_file)\n",
    "#     print(csv_reader.fieldnames)\n",
    "#     for line in csv_reader:\n",
    "#         print(line)\n",
    "#         break"
   ]
  }
 ],
 "metadata": {
  "kernelspec": {
   "display_name": "Python [conda env:base] *",
   "language": "python",
   "name": "conda-base-py"
  },
  "language_info": {
   "codemirror_mode": {
    "name": "ipython",
    "version": 3
   },
   "file_extension": ".py",
   "mimetype": "text/x-python",
   "name": "python",
   "nbconvert_exporter": "python",
   "pygments_lexer": "ipython3",
   "version": "3.12.7"
  }
 },
 "nbformat": 4,
 "nbformat_minor": 5
}
