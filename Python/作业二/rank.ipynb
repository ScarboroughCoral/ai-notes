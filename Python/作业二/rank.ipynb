{
 "cells": [
  {
   "cell_type": "code",
   "execution_count": 72,
   "id": "c1ef9941-27e0-4135-9bc2-efcb95c65b12",
   "metadata": {},
   "outputs": [],
   "source": [
    "def quick_sort(nums):\n",
    "    if len(nums) == 0:\n",
    "        return nums\n",
    "    picked = nums[0]\n",
    "    return quick_sort([v for v in nums[1:] if v <= picked]) + [picked] + quick_sort([v for v in nums[1:] if v > picked])"
   ]
  },
  {
   "cell_type": "code",
   "execution_count": 76,
   "id": "2ea4b2a1-fb32-49e3-9d7c-4131e58bdc04",
   "metadata": {},
   "outputs": [],
   "source": [
    "# 单元测试\n",
    "assert(quick_sort([1,2,5,3,77,23]) == [1, 2, 3, 5, 23, 77])"
   ]
  },
  {
   "cell_type": "code",
   "execution_count": 78,
   "id": "95da0fc9-d0d0-4b43-8503-4294babb6941",
   "metadata": {},
   "outputs": [],
   "source": [
    "def rank_k(nums,k):\n",
    "    if k <= 0 or k >= len(nums):\n",
    "        return None\n",
    "    return quick_sort(nums)[-k]"
   ]
  },
  {
   "cell_type": "code",
   "execution_count": 80,
   "id": "757cdc85-7cb0-4e47-8c45-ffde36022cf4",
   "metadata": {},
   "outputs": [],
   "source": [
    "assert(rank_k([1,3,4,5,2],1) == 5)\n",
    "assert(rank_k([],1) == None)\n",
    "assert(rank_k([1],0) == None)"
   ]
  },
  {
   "cell_type": "code",
   "execution_count": null,
   "id": "87347a21-17b6-4927-b035-b32f69678da7",
   "metadata": {},
   "outputs": [],
   "source": []
  }
 ],
 "metadata": {
  "kernelspec": {
   "display_name": "Python [conda env:base] *",
   "language": "python",
   "name": "conda-base-py"
  },
  "language_info": {
   "codemirror_mode": {
    "name": "ipython",
    "version": 3
   },
   "file_extension": ".py",
   "mimetype": "text/x-python",
   "name": "python",
   "nbconvert_exporter": "python",
   "pygments_lexer": "ipython3",
   "version": "3.12.7"
  }
 },
 "nbformat": 4,
 "nbformat_minor": 5
}
