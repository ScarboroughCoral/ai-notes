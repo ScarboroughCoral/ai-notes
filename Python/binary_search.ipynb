{
 "cells": [
  {
   "cell_type": "code",
   "execution_count": 16,
   "id": "86bfc990-5d2c-44e7-a48e-d35729f8d65f",
   "metadata": {},
   "outputs": [],
   "source": [
    "def binary_search (nums, target):\n",
    "    result = -1\n",
    "    right = len(nums) - 1\n",
    "    left = 0\n",
    "    middle = (right + left) // 2\n",
    "    while left <= right:\n",
    "        if nums[middle] == target:\n",
    "            return middle\n",
    "        if nums[middle] < target:\n",
    "            left = middle + 1\n",
    "        else:\n",
    "            right = middle - 1\n",
    "        middle = (right + left) // 2\n",
    "    return result\n",
    "    "
   ]
  },
  {
   "cell_type": "code",
   "execution_count": 30,
   "id": "a1c35003-5ddb-4dc5-aca5-f9ba40496085",
   "metadata": {},
   "outputs": [],
   "source": [
    "# 单元测试\n",
    "nums = [0,1,2,3,4,5]\n",
    "assert(binary_search(nums,3) == 3)\n",
    "assert(binary_search(nums,6) == -1)\n",
    "assert(binary_search([],1) == -1)\n",
    "assert(binary_search([-1,0,3,5,9,12],9) == 4)"
   ]
  },
  {
   "cell_type": "code",
   "execution_count": null,
   "id": "29719721-0aff-43e0-b957-32d59cc23dfa",
   "metadata": {},
   "outputs": [],
   "source": []
  }
 ],
 "metadata": {
  "kernelspec": {
   "display_name": "Python [conda env:base] *",
   "language": "python",
   "name": "conda-base-py"
  },
  "language_info": {
   "codemirror_mode": {
    "name": "ipython",
    "version": 3
   },
   "file_extension": ".py",
   "mimetype": "text/x-python",
   "name": "python",
   "nbconvert_exporter": "python",
   "pygments_lexer": "ipython3",
   "version": "3.12.7"
  }
 },
 "nbformat": 4,
 "nbformat_minor": 5
}
