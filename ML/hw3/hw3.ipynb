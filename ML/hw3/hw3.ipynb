{
 "cells": [
  {
   "cell_type": "markdown",
   "metadata": {},
   "source": [
    "本次作业以垃圾邮件分类任务为基础，要求提取文本特征并使用朴素贝叶斯算法进行垃圾邮件识别（调用已有工具包或自行实现）。"
   ]
  },
  {
   "cell_type": "markdown",
   "metadata": {},
   "source": [
    "### 任务介绍\n",
    "电子邮件是互联网的一项重要服务，在大家的学习、工作和生活中会广泛使用。但是大家的邮箱常常被各种各样的垃圾邮件填充了。有统计显示，每天互联网上产生的垃圾邮件有几百亿近千亿的量级。因此，对电子邮件服务提供商来说，垃圾邮件过滤是一项重要功能。而朴素贝叶斯算法在垃圾邮件识别任务上一直表现非常好，至今仍然有很多系统在使用朴素贝叶斯算法作为基本的垃圾邮件识别算法。\n",
    "\n",
    "本次实验数据集来自[Trec06](https://plg.uwaterloo.ca/cgi-bin/cgiwrap/gvcormac/foo06)的中文垃圾邮件数据集，目录解压后包含三个文件夹，其中data目录下是所有的邮件（未分词），已分词好的邮件在data_cut目录下。邮件分为邮件头部分和正文部分，两部分之间一般有空行隔开。标签数据在label文件夹下，文件中每行是标签和对应的邮件路径。‘spam’表示垃圾邮件，‘ham’表示正常邮件。\n",
    "\n",
    "本次实验\n",
    "\n",
    "基本要求：\n",
    "1. 提取正文部分的文本特征；\n",
    "2. 划分训练集和测试集（可以借助工具包。一般笔记本就足够运行所有数据，认为实现困难或算力不够的同学可以采样一部分数据进行实验。）；\n",
    "3. 使用朴素贝叶斯算法完成垃圾邮件的分类与预测，要求测试集准确率Accuracy、精准率Precision、召回率Recall均高于0.9（本次实验可以使用已有的一些工具包完成如sklearn）；\n",
    "4. 对比特征数目（词表大小）对模型效果的影响；\n",
    "5. 提交代码和实验报告。\n",
    "\n",
    "扩展要求：\n",
    "1. 邮件头信息有时也可以协助判断垃圾邮件，欢迎学有余力的同学们尝试；\n",
    "2. 尝试自行实现朴素贝叶斯算法细节；\n",
    "3. 尝试对比不同的概率计算方法。"
   ]
  },
  {
   "cell_type": "markdown",
   "metadata": {},
   "source": [
    "### 导入工具包"
   ]
  },
  {
   "cell_type": "code",
   "execution_count": 17,
   "metadata": {},
   "outputs": [],
   "source": [
    "'''\n",
    "提示：\n",
    "若调用已有工具包，sklearn中提供了一些可能会用到的类。\n",
    "'''\n",
    "from sklearn.feature_extraction.text import CountVectorizer, TfidfVectorizer # 提取文本特征向量的类\n",
    "from sklearn.naive_bayes import MultinomialNB, BernoulliNB, ComplementNB # 三种朴素贝叶斯算法，差别在于估计p(x|y)的方式\n",
    "from sklearn.model_selection import train_test_split # 分割数据集"
   ]
  },
  {
   "cell_type": "code",
   "execution_count": 18,
   "metadata": {},
   "outputs": [],
   "source": [
    "import pandas as pd\n",
    "# 读取标签索引\n",
    "# 读取label文件\n",
    "indexData = pd.read_csv('trec06c-utf8/label/index', sep=' ', header=None, names=['label', 'path'])\n",
    "indexData.path = indexData.path.map(lambda x: x.replace('../data', './trec06c-utf8/data_cut'))\n",
    "# indexData\n",
    "indexData['text'] = indexData.path.map(lambda x: open(x, 'r', encoding='utf-8').read())"
   ]
  },
  {
   "cell_type": "code",
   "execution_count": 19,
   "metadata": {},
   "outputs": [
    {
     "data": {
      "text/html": [
       "<div>\n",
       "<style scoped>\n",
       "    .dataframe tbody tr th:only-of-type {\n",
       "        vertical-align: middle;\n",
       "    }\n",
       "\n",
       "    .dataframe tbody tr th {\n",
       "        vertical-align: top;\n",
       "    }\n",
       "\n",
       "    .dataframe thead th {\n",
       "        text-align: right;\n",
       "    }\n",
       "</style>\n",
       "<table border=\"1\" class=\"dataframe\">\n",
       "  <thead>\n",
       "    <tr style=\"text-align: right;\">\n",
       "      <th></th>\n",
       "      <th>label</th>\n",
       "      <th>path</th>\n",
       "      <th>text</th>\n",
       "      <th>content</th>\n",
       "    </tr>\n",
       "  </thead>\n",
       "  <tbody>\n",
       "    <tr>\n",
       "      <th>0</th>\n",
       "      <td>spam</td>\n",
       "      <td>./trec06c-utf8/data_cut/000/000</td>\n",
       "      <td>Received: from hp-5e1fe6310264 ([218.79.188.13...</td>\n",
       "      <td>[ 课   程   背   景 ]\\n\\n　\\n每 一位 管理 和 技术人员 都 清楚 地 ...</td>\n",
       "    </tr>\n",
       "    <tr>\n",
       "      <th>1</th>\n",
       "      <td>ham</td>\n",
       "      <td>./trec06c-utf8/data_cut/000/001</td>\n",
       "      <td>Received: from jdl.ac.cn ([159.226.42.8])\\n\\tb...</td>\n",
       "      <td>讲 的 是 孔子 后人 的 故事 。 一个 老 领导 回到 家乡 ， 跟 儿子 感情 不 和...</td>\n",
       "    </tr>\n",
       "    <tr>\n",
       "      <th>2</th>\n",
       "      <td>spam</td>\n",
       "      <td>./trec06c-utf8/data_cut/000/002</td>\n",
       "      <td>Received: from 163.con ([61.141.165.252])\\n\\tb...</td>\n",
       "      <td>尊敬 的 贵 公司 ( 财务 / 经理 ) 负责人 您好 ！\\n我 是 深圳 金海 实业 有...</td>\n",
       "    </tr>\n",
       "    <tr>\n",
       "      <th>3</th>\n",
       "      <td>spam</td>\n",
       "      <td>./trec06c-utf8/data_cut/000/003</td>\n",
       "      <td>Received: from 12.com ([222.50.6.150])\\n\\tby s...</td>\n",
       "      <td>贵 公司 负责人 ( 经理 / 财务 ） 您好 ：\\n深圳市 华龙 公司 受 多家 公司 委...</td>\n",
       "    </tr>\n",
       "    <tr>\n",
       "      <th>4</th>\n",
       "      <td>spam</td>\n",
       "      <td>./trec06c-utf8/data_cut/000/004</td>\n",
       "      <td>Received: from dghhkjk.com ([59.36.183.208])\\n...</td>\n",
       "      <td>这是 一封 HTML 格式 信件 ！\\n\\n- - - - - - - - - - - - ...</td>\n",
       "    </tr>\n",
       "  </tbody>\n",
       "</table>\n",
       "</div>"
      ],
      "text/plain": [
       "  label                             path  \\\n",
       "0  spam  ./trec06c-utf8/data_cut/000/000   \n",
       "1   ham  ./trec06c-utf8/data_cut/000/001   \n",
       "2  spam  ./trec06c-utf8/data_cut/000/002   \n",
       "3  spam  ./trec06c-utf8/data_cut/000/003   \n",
       "4  spam  ./trec06c-utf8/data_cut/000/004   \n",
       "\n",
       "                                                text  \\\n",
       "0  Received: from hp-5e1fe6310264 ([218.79.188.13...   \n",
       "1  Received: from jdl.ac.cn ([159.226.42.8])\\n\\tb...   \n",
       "2  Received: from 163.con ([61.141.165.252])\\n\\tb...   \n",
       "3  Received: from 12.com ([222.50.6.150])\\n\\tby s...   \n",
       "4  Received: from dghhkjk.com ([59.36.183.208])\\n...   \n",
       "\n",
       "                                             content  \n",
       "0  [ 课   程   背   景 ]\\n\\n　\\n每 一位 管理 和 技术人员 都 清楚 地 ...  \n",
       "1  讲 的 是 孔子 后人 的 故事 。 一个 老 领导 回到 家乡 ， 跟 儿子 感情 不 和...  \n",
       "2  尊敬 的 贵 公司 ( 财务 / 经理 ) 负责人 您好 ！\\n我 是 深圳 金海 实业 有...  \n",
       "3  贵 公司 负责人 ( 经理 / 财务 ） 您好 ：\\n深圳市 华龙 公司 受 多家 公司 委...  \n",
       "4  这是 一封 HTML 格式 信件 ！\\n\\n- - - - - - - - - - - - ...  "
      ]
     },
     "execution_count": 19,
     "metadata": {},
     "output_type": "execute_result"
    }
   ],
   "source": [
    "indexData['content'] = indexData.text.map(lambda x: x.split('\\n\\n',1)[1])\n",
    "indexData.head()\n"
   ]
  },
  {
   "cell_type": "code",
   "execution_count": 20,
   "metadata": {},
   "outputs": [],
   "source": [
    "def train_test_model(max_features=None):\n",
    "    # 分割数据集\n",
    "    # 特征提取\n",
    "    vectorizer = TfidfVectorizer(max_features=max_features)\n",
    "    X = vectorizer.fit_transform(indexData['content'])\n",
    "    # print(X)\n",
    "    Y = indexData['label']\n",
    "    train_data, test_data, train_label, test_label = train_test_split(X, Y, test_size=0.2, random_state=20250620)\n",
    "    print(train_data.shape, test_data.shape, train_label.shape, test_label.shape)\n",
    "    clf = MultinomialNB()\n",
    "    clf.fit(train_data, train_label)\n",
    "    # 预测\n",
    "    y_pred = clf.predict(test_data)\n",
    "    from sklearn.metrics import accuracy_score, precision_score, recall_score\n",
    "    # accuracy\n",
    "    accuracy = accuracy_score(test_label, y_pred)\n",
    "    print(f'accuracy({max_features}): {accuracy}')\n",
    "    # precision\n",
    "    precision = precision_score(test_label, y_pred, pos_label='spam')\n",
    "    print(f'precision({max_features}): {precision}')\n",
    "    # recall\n",
    "    recall = recall_score(test_label, y_pred, pos_label='spam')\n",
    "    print(f'recall({max_features}): {recall}')\n",
    "    return (max_features, accuracy, precision, recall)"
   ]
  },
  {
   "cell_type": "code",
   "execution_count": 21,
   "metadata": {},
   "outputs": [
    {
     "name": "stdout",
     "output_type": "stream",
     "text": [
      "(51696, 196902) (12924, 196902) (51696,) (12924,)\n",
      "accuracy(None): 0.9804240173320953\n",
      "precision(None): 0.9809380776340111\n",
      "recall(None): 0.9897423942184403\n"
     ]
    },
    {
     "data": {
      "text/plain": [
       "(None, 0.9804240173320953, 0.9809380776340111, 0.9897423942184403)"
      ]
     },
     "execution_count": 21,
     "metadata": {},
     "output_type": "execute_result"
    }
   ],
   "source": [
    "train_test_model()"
   ]
  },
  {
   "cell_type": "code",
   "execution_count": 22,
   "metadata": {},
   "outputs": [
    {
     "name": "stdout",
     "output_type": "stream",
     "text": [
      "(51696, 10) (12924, 10) (51696,) (12924,)\n",
      "accuracy(10): 0.8508975549365522\n",
      "precision(10): 0.8595675675675676\n",
      "recall(10): 0.9267979951043245\n",
      "(51696, 100) (12924, 100) (51696,) (12924,)\n",
      "accuracy(100): 0.9405756731662024\n",
      "precision(100): 0.9507212925562608\n",
      "recall(100): 0.9602517775964564\n",
      "(51696, 1000) (12924, 1000) (51696,) (12924,)\n",
      "accuracy(1000): 0.957288765088208\n",
      "precision(1000): 0.9744650667927651\n",
      "recall(1000): 0.9608345961067724\n",
      "(51696, 10000) (12924, 10000) (51696,) (12924,)\n",
      "accuracy(10000): 0.9675796966883318\n",
      "precision(10000): 0.9838709677419355\n",
      "recall(10000): 0.9670124723161208\n",
      "(51696, 100000) (12924, 100000) (51696,) (12924,)\n",
      "accuracy(100000): 0.9773290003095016\n",
      "precision(100000): 0.9837692666978047\n",
      "recall(100000): 0.9820491898822706\n",
      "(51696, 196902) (12924, 196902) (51696,) (12924,)\n",
      "accuracy(1000000): 0.9804240173320953\n",
      "precision(1000000): 0.9809380776340111\n",
      "recall(1000000): 0.9897423942184403\n",
      "(51696, 196902) (12924, 196902) (51696,) (12924,)\n",
      "accuracy(10000000): 0.9804240173320953\n",
      "precision(10000000): 0.9809380776340111\n",
      "recall(10000000): 0.9897423942184403\n",
      "(51696, 196902) (12924, 196902) (51696,) (12924,)\n",
      "accuracy(100000000): 0.9804240173320953\n",
      "precision(100000000): 0.9809380776340111\n",
      "recall(100000000): 0.9897423942184403\n",
      "(51696, 196902) (12924, 196902) (51696,) (12924,)\n",
      "accuracy(1000000000): 0.9804240173320953\n",
      "precision(1000000000): 0.9809380776340111\n",
      "recall(1000000000): 0.9897423942184403\n"
     ]
    }
   ],
   "source": [
    "result = [train_test_model(max_features=10**i) for i in range(1,10)]"
   ]
  },
  {
   "cell_type": "code",
   "execution_count": 23,
   "metadata": {},
   "outputs": [
    {
     "name": "stdout",
     "output_type": "stream",
     "text": [
      "   max_features  accuracy  precision    recall\n",
      "0            10  0.850898   0.859568  0.926798\n",
      "1           100  0.940576   0.950721  0.960252\n",
      "2          1000  0.957289   0.974465  0.960835\n",
      "3         10000  0.967580   0.983871  0.967012\n",
      "4        100000  0.977329   0.983769  0.982049\n",
      "5       1000000  0.980424   0.980938  0.989742\n",
      "6      10000000  0.980424   0.980938  0.989742\n",
      "7     100000000  0.980424   0.980938  0.989742\n",
      "8    1000000000  0.980424   0.980938  0.989742\n"
     ]
    },
    {
     "data": {
      "image/png": "[encoded data removed]",
      "text/plain": [
       "<Figure size 640x480 with 1 Axes>"
      ]
     },
     "metadata": {},
     "output_type": "display_data"
    }
   ],
   "source": [
    "result_df = pd.DataFrame(result, columns=['max_features', 'accuracy', 'precision', 'recall'])\n",
    "print(result_df)\n",
    "ax = result_df.plot(x='max_features', y=['accuracy', 'precision', 'recall'], kind='line')\n",
    "ax.set_xscale('log')\n"
   ]
  },
  {
   "cell_type": "markdown",
   "metadata": {},
   "source": [
    "## 实验总结\n"
   ]
  },
  {
   "cell_type": "markdown",
   "metadata": {},
   "source": [
    "本次实验是使用朴素贝叶斯算法来完成邮件垃圾分类的功能"
   ]
  },
  {
   "cell_type": "markdown",
   "metadata": {},
   "source": [
    "### 特征数目对模型效果的影响\n",
    "\n",
    "- 在特征数目较低(10数量级)的情况下accuracy、precision、recall 较低。\n",
    "- 随着量级增大10到100逐渐到10^6逐步升高\n",
    "- 10^6之后继续提高量级后没有明显效果（很大可能没有额外特征，或者确实没有效果了）\n",
    "\n",
    "\n",
    "### 朴素贝叶斯分类的学习关键知识点总结\n",
    "\n",
    "- 最基础的概念是贝叶斯公式 $P(h|D)=\\frac{P(D|h)\\times P(h)}{P(D)}$\n",
    "- 基于贝叶斯公式确定出了两个假设\n",
    "  - 极大后验假设（h of MAP）。因为P(D)是确定的，因此$\\underset{h}{arg max}P(h|D)=\\underset{h}{arg max} P(D|h)\\times P(h)$\n",
    "  - 极大似然假设（h of ML）。因为假设概率未知或者相同。因此$\\underset{h}{arg max} P(h|D)=\\underset{h}{arg max} P(D|h)$\n",
    "  - 极大后验假设考虑先验概率。极大似然假设考虑历史经验。\n",
    "\n",
    "### 朴素贝叶斯分类实验总结\n",
    "\n",
    "- 通过文件索引将邮件读取转换为DataFrame\n",
    "- 通过 TfidfVectorizer 对指定邮件特征数量进行向量化\n",
    "- 通过 MultinomialNB 朴素贝叶斯算法进行训练\n",
    "- 预测评估模型"
   ]
  }
 ],
 "metadata": {
  "kernelspec": {
   "display_name": "base",
   "language": "python",
   "name": "python3"
  },
  "language_info": {
   "codemirror_mode": {
    "name": "ipython",
    "version": 3
   },
   "file_extension": ".py",
   "mimetype": "text/x-python",
   "name": "python",
   "nbconvert_exporter": "python",
   "pygments_lexer": "ipython3",
   "version": "3.12.7"
  }
 },
 "nbformat": 4,
 "nbformat_minor": 4
}
