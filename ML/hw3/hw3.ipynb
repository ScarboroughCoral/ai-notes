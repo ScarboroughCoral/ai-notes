{
 "cells": [
  {
   "cell_type": "markdown",
   "metadata": {},
   "source": [
    "本次作业以垃圾邮件分类任务为基础，要求提取文本特征并使用朴素贝叶斯算法进行垃圾邮件识别（调用已有工具包或自行实现）。"
   ]
  },
  {
   "cell_type": "markdown",
   "metadata": {},
   "source": [
    "### 任务介绍\n",
    "电子邮件是互联网的一项重要服务，在大家的学习、工作和生活中会广泛使用。但是大家的邮箱常常被各种各样的垃圾邮件填充了。有统计显示，每天互联网上产生的垃圾邮件有几百亿近千亿的量级。因此，对电子邮件服务提供商来说，垃圾邮件过滤是一项重要功能。而朴素贝叶斯算法在垃圾邮件识别任务上一直表现非常好，至今仍然有很多系统在使用朴素贝叶斯算法作为基本的垃圾邮件识别算法。\n",
    "\n",
    "本次实验数据集来自[Trec06](https://plg.uwaterloo.ca/cgi-bin/cgiwrap/gvcormac/foo06)的中文垃圾邮件数据集，目录解压后包含三个文件夹，其中data目录下是所有的邮件（未分词），已分词好的邮件在data_cut目录下。邮件分为邮件头部分和正文部分，两部分之间一般有空行隔开。标签数据在label文件夹下，文件中每行是标签和对应的邮件路径。‘spam’表示垃圾邮件，‘ham’表示正常邮件。\n",
    "\n",
    "本次实验\n",
    "\n",
    "基本要求：\n",
    "1. 提取正文部分的文本特征；\n",
    "2. 划分训练集和测试集（可以借助工具包。一般笔记本就足够运行所有数据，认为实现困难或算力不够的同学可以采样一部分数据进行实验。）；\n",
    "3. 使用朴素贝叶斯算法完成垃圾邮件的分类与预测，要求测试集准确率Accuracy、精准率Precision、召回率Recall均高于0.9（本次实验可以使用已有的一些工具包完成如sklearn）；\n",
    "4. 对比特征数目（词表大小）对模型效果的影响；\n",
    "5. 提交代码和实验报告。\n",
    "\n",
    "扩展要求：\n",
    "1. 邮件头信息有时也可以协助判断垃圾邮件，欢迎学有余力的同学们尝试；\n",
    "2. 尝试自行实现朴素贝叶斯算法细节；\n",
    "3. 尝试对比不同的概率计算方法。"
   ]
  },
  {
   "cell_type": "markdown",
   "metadata": {},
   "source": [
    "### 导入工具包"
   ]
  },
  {
   "cell_type": "code",
   "execution_count": 53,
   "metadata": {},
   "outputs": [],
   "source": [
    "'''\n",
    "提示：\n",
    "若调用已有工具包，sklearn中提供了一些可能会用到的类。\n",
    "'''\n",
    "from sklearn.feature_extraction.text import CountVectorizer, TfidfVectorizer # 提取文本特征向量的类\n",
    "from sklearn.naive_bayes import MultinomialNB, BernoulliNB, ComplementNB # 三种朴素贝叶斯算法，差别在于估计p(x|y)的方式\n",
    "from sklearn.model_selection import train_test_split # 分割数据集"
   ]
  },
  {
   "cell_type": "code",
   "execution_count": 54,
   "metadata": {},
   "outputs": [],
   "source": [
    "import pandas as pd\n",
    "# 读取标签索引\n",
    "# 读取label文件\n",
    "indexData = pd.read_csv('trec06c-utf8/label/index', sep=' ', header=None, names=['label', 'path'])\n",
    "indexData.path = indexData.path.map(lambda x: x.replace('../data', './trec06c-utf8/data_cut'))\n",
    "# indexData\n",
    "indexData['text'] = indexData.path.map(lambda x: open(x, 'r', encoding='utf-8').read())"
   ]
  },
  {
   "cell_type": "code",
   "execution_count": 55,
   "metadata": {},
   "outputs": [
    {
     "data": {
      "text/html": [
       "<div>\n",
       "<style scoped>\n",
       "    .dataframe tbody tr th:only-of-type {\n",
       "        vertical-align: middle;\n",
       "    }\n",
       "\n",
       "    .dataframe tbody tr th {\n",
       "        vertical-align: top;\n",
       "    }\n",
       "\n",
       "    .dataframe thead th {\n",
       "        text-align: right;\n",
       "    }\n",
       "</style>\n",
       "<table border=\"1\" class=\"dataframe\">\n",
       "  <thead>\n",
       "    <tr style=\"text-align: right;\">\n",
       "      <th></th>\n",
       "      <th>label</th>\n",
       "      <th>path</th>\n",
       "      <th>text</th>\n",
       "      <th>content</th>\n",
       "    </tr>\n",
       "  </thead>\n",
       "  <tbody>\n",
       "    <tr>\n",
       "      <th>0</th>\n",
       "      <td>spam</td>\n",
       "      <td>./trec06c-utf8/data_cut/000/000</td>\n",
       "      <td>Received: from hp-5e1fe6310264 ([218.79.188.13...</td>\n",
       "      <td>[ 课   程   背   景 ]\\n\\n　\\n每 一位 管理 和 技术人员 都 清楚 地 ...</td>\n",
       "    </tr>\n",
       "    <tr>\n",
       "      <th>1</th>\n",
       "      <td>ham</td>\n",
       "      <td>./trec06c-utf8/data_cut/000/001</td>\n",
       "      <td>Received: from jdl.ac.cn ([159.226.42.8])\\n\\tb...</td>\n",
       "      <td>讲 的 是 孔子 后人 的 故事 。 一个 老 领导 回到 家乡 ， 跟 儿子 感情 不 和...</td>\n",
       "    </tr>\n",
       "    <tr>\n",
       "      <th>2</th>\n",
       "      <td>spam</td>\n",
       "      <td>./trec06c-utf8/data_cut/000/002</td>\n",
       "      <td>Received: from 163.con ([61.141.165.252])\\n\\tb...</td>\n",
       "      <td>尊敬 的 贵 公司 ( 财务 / 经理 ) 负责人 您好 ！\\n我 是 深圳 金海 实业 有...</td>\n",
       "    </tr>\n",
       "    <tr>\n",
       "      <th>3</th>\n",
       "      <td>spam</td>\n",
       "      <td>./trec06c-utf8/data_cut/000/003</td>\n",
       "      <td>Received: from 12.com ([222.50.6.150])\\n\\tby s...</td>\n",
       "      <td>贵 公司 负责人 ( 经理 / 财务 ） 您好 ：\\n深圳市 华龙 公司 受 多家 公司 委...</td>\n",
       "    </tr>\n",
       "    <tr>\n",
       "      <th>4</th>\n",
       "      <td>spam</td>\n",
       "      <td>./trec06c-utf8/data_cut/000/004</td>\n",
       "      <td>Received: from dghhkjk.com ([59.36.183.208])\\n...</td>\n",
       "      <td>这是 一封 HTML 格式 信件 ！\\n\\n- - - - - - - - - - - - ...</td>\n",
       "    </tr>\n",
       "  </tbody>\n",
       "</table>\n",
       "</div>"
      ],
      "text/plain": [
       "  label                             path  \\\n",
       "0  spam  ./trec06c-utf8/data_cut/000/000   \n",
       "1   ham  ./trec06c-utf8/data_cut/000/001   \n",
       "2  spam  ./trec06c-utf8/data_cut/000/002   \n",
       "3  spam  ./trec06c-utf8/data_cut/000/003   \n",
       "4  spam  ./trec06c-utf8/data_cut/000/004   \n",
       "\n",
       "                                                text  \\\n",
       "0  Received: from hp-5e1fe6310264 ([218.79.188.13...   \n",
       "1  Received: from jdl.ac.cn ([159.226.42.8])\\n\\tb...   \n",
       "2  Received: from 163.con ([61.141.165.252])\\n\\tb...   \n",
       "3  Received: from 12.com ([222.50.6.150])\\n\\tby s...   \n",
       "4  Received: from dghhkjk.com ([59.36.183.208])\\n...   \n",
       "\n",
       "                                             content  \n",
       "0  [ 课   程   背   景 ]\\n\\n　\\n每 一位 管理 和 技术人员 都 清楚 地 ...  \n",
       "1  讲 的 是 孔子 后人 的 故事 。 一个 老 领导 回到 家乡 ， 跟 儿子 感情 不 和...  \n",
       "2  尊敬 的 贵 公司 ( 财务 / 经理 ) 负责人 您好 ！\\n我 是 深圳 金海 实业 有...  \n",
       "3  贵 公司 负责人 ( 经理 / 财务 ） 您好 ：\\n深圳市 华龙 公司 受 多家 公司 委...  \n",
       "4  这是 一封 HTML 格式 信件 ！\\n\\n- - - - - - - - - - - - ...  "
      ]
     },
     "execution_count": 55,
     "metadata": {},
     "output_type": "execute_result"
    }
   ],
   "source": [
    "indexData['content'] = indexData.text.map(lambda x: x.split('\\n\\n',1)[1])\n",
    "indexData.head()\n"
   ]
  },
  {
   "cell_type": "code",
   "execution_count": 56,
   "metadata": {},
   "outputs": [
    {
     "name": "stdout",
     "output_type": "stream",
     "text": [
      "(51696, 196902) (12924, 196902) (51696,) (12924,)\n"
     ]
    }
   ],
   "source": [
    "# 分割数据集\n",
    "# 特征提取\n",
    "vectorizer = TfidfVectorizer()\n",
    "X = vectorizer.fit_transform(indexData['content'])\n",
    "# print(X)\n",
    "Y = indexData['label']\n",
    "train_data, test_data, train_label, test_label = train_test_split(X, Y, test_size=0.2, random_state=42)\n",
    "print(train_data.shape, test_data.shape, train_label.shape, test_label.shape)"
   ]
  },
  {
   "cell_type": "code",
   "execution_count": 57,
   "metadata": {},
   "outputs": [
    {
     "name": "stdout",
     "output_type": "stream",
     "text": [
      "accuracy:  0.9800371402042711\n",
      "precision:  0.9800573065902579\n",
      "recall:  0.9902721482339317\n"
     ]
    }
   ],
   "source": [
    "clf = MultinomialNB()\n",
    "clf.fit(train_data, train_label)\n",
    "# 预测\n",
    "y_pred = clf.predict(test_data)\n",
    "from sklearn.metrics import accuracy_score, precision_score, recall_score\n",
    "# accuracy\n",
    "accuracy = accuracy_score(test_label, y_pred)\n",
    "print('accuracy: ', accuracy)\n",
    "# precision\n",
    "precision = precision_score(test_label, y_pred, pos_label='spam')\n",
    "print('precision: ', precision)\n",
    "# recall\n",
    "recall = recall_score(test_label, y_pred, pos_label='spam')\n",
    "print('recall: ', recall)"
   ]
  },
  {
   "cell_type": "code",
   "execution_count": 58,
   "metadata": {},
   "outputs": [],
   "source": [
    "# "
   ]
  }
 ],
 "metadata": {
  "kernelspec": {
   "display_name": "base",
   "language": "python",
   "name": "python3"
  },
  "language_info": {
   "codemirror_mode": {
    "name": "ipython",
    "version": 3
   },
   "file_extension": ".py",
   "mimetype": "text/x-python",
   "name": "python",
   "nbconvert_exporter": "python",
   "pygments_lexer": "ipython3",
   "version": "3.12.7"
  }
 },
 "nbformat": 4,
 "nbformat_minor": 4
}
