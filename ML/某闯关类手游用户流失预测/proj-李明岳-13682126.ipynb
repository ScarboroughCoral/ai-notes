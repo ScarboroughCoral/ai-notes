{
 "cells": [
  {
   "cell_type": "markdown",
   "metadata": {},
   "source": [
    "# Final Project: 某闯关类手游用户流失预测"
   ]
  },
  {
   "cell_type": "markdown",
   "metadata": {},
   "source": [
    "## 一、案例简介\n",
    "\n",
    "手游在当下的日常娱乐中占据着主导性地位，成为人们生活中放松身心的一种有效途径。近年来，各种类型的手游，尤其是闯关类的休闲手游，由于其对碎片化时间的利用取得了非常广泛的市场。然而在此类手游中，新用户流失是一个非常严峻的问题，有相当多的新用户在短暂尝试后会选择放弃，而如果能在用户还没有完全卸载游戏的时候针对流失可能性较大的用户施以干预（例如奖励道具、暖心短信），就可能挽回用户从而提升游戏的活跃度和公司的潜在收益，因此用户的流失预测成为一个重要且挑战性的问题。在毕业项目中我们将从真实游戏中非结构化的日志数据出发，构建用户流失预测模型，综合已有知识设计适合的算法解决实际问题。"
   ]
  },
  {
   "cell_type": "markdown",
   "metadata": {},
   "source": [
    "## 二、作业说明\n",
    "\n",
    "* 根据给出的实际数据（包括用户游玩历史，关卡特征等），预测测试集中的用户是否为流失用户（二分类）；\n",
    "* 方法不限，自行进行评测，评价指标使用 AUC；\n",
    "* 建议尝试使用云平台进行实验；\n",
    "* 提交代码与实验报告，报告展示对数据的观察、分析、最后的解决方案以及不同尝试的对比等；\n",
    "* 最终评分会参考达到的效果以及对所尝试方法的分析。"
   ]
  },
  {
   "cell_type": "markdown",
   "metadata": {},
   "source": [
    "## 三、数据概览\n",
    "\n",
    "本次使用的是一个休闲类闯关手游的数据，用户在游戏中不断闯关，每一关的基本任务是在限定步数内达到某个目标。每次闯关可能成功也可能失败，一般情况下用户只在完成一关后进入下一关，闯关过程中可以使用道具或提示等帮助。\n",
    "\n",
    "对大多数手游来说，用户流失往往发生在早期，因此次周的留存情况是公司关注的一个重点。本次数据选取了 2020.2.1 注册的所有用户在 2.1-2.4 的交互数据，数据经过筛选保证这些注册用户在前四日至少有两日登录。流失的定义则参照次周（2.7-2.13）的登录情况，如果没有登录为流失。\n",
    "\n",
    "本次的数据和以往结构化的形式不同，展现的是更原始的数据记录，更接近公司实际日志的形式，共包含 5 个文件："
   ]
  },
  {
   "cell_type": "markdown",
   "metadata": {},
   "source": [
    "### train.csv\n",
    "\n",
    "训练集用户，包括用户 id（从 1 开始）以及对应是否为流失用户的 label（1：流失，0：留存）。"
   ]
  },
  {
   "cell_type": "code",
   "execution_count": 138,
   "metadata": {
    "scrolled": true
   },
   "outputs": [],
   "source": [
    "import pandas as pd\n",
    "import numpy as np\n",
    "\n",
    "train_df = pd.read_csv('./data/train.csv', sep='\\t')"
   ]
  },
  {
   "cell_type": "code",
   "execution_count": 139,
   "metadata": {},
   "outputs": [
    {
     "data": {
      "text/html": [
       "<div>\n",
       "<style scoped>\n",
       "    .dataframe tbody tr th:only-of-type {\n",
       "        vertical-align: middle;\n",
       "    }\n",
       "\n",
       "    .dataframe tbody tr th {\n",
       "        vertical-align: top;\n",
       "    }\n",
       "\n",
       "    .dataframe thead th {\n",
       "        text-align: right;\n",
       "    }\n",
       "</style>\n",
       "<table border=\"1\" class=\"dataframe\">\n",
       "  <thead>\n",
       "    <tr style=\"text-align: right;\">\n",
       "      <th></th>\n",
       "      <th>user_id</th>\n",
       "      <th>label</th>\n",
       "    </tr>\n",
       "  </thead>\n",
       "  <tbody>\n",
       "    <tr>\n",
       "      <th>0</th>\n",
       "      <td>2774</td>\n",
       "      <td>0</td>\n",
       "    </tr>\n",
       "    <tr>\n",
       "      <th>1</th>\n",
       "      <td>2775</td>\n",
       "      <td>0</td>\n",
       "    </tr>\n",
       "    <tr>\n",
       "      <th>2</th>\n",
       "      <td>2776</td>\n",
       "      <td>1</td>\n",
       "    </tr>\n",
       "    <tr>\n",
       "      <th>3</th>\n",
       "      <td>2777</td>\n",
       "      <td>0</td>\n",
       "    </tr>\n",
       "    <tr>\n",
       "      <th>4</th>\n",
       "      <td>2778</td>\n",
       "      <td>1</td>\n",
       "    </tr>\n",
       "    <tr>\n",
       "      <th>...</th>\n",
       "      <td>...</td>\n",
       "      <td>...</td>\n",
       "    </tr>\n",
       "    <tr>\n",
       "      <th>8153</th>\n",
       "      <td>10927</td>\n",
       "      <td>1</td>\n",
       "    </tr>\n",
       "    <tr>\n",
       "      <th>8154</th>\n",
       "      <td>10928</td>\n",
       "      <td>1</td>\n",
       "    </tr>\n",
       "    <tr>\n",
       "      <th>8155</th>\n",
       "      <td>10929</td>\n",
       "      <td>0</td>\n",
       "    </tr>\n",
       "    <tr>\n",
       "      <th>8156</th>\n",
       "      <td>10930</td>\n",
       "      <td>1</td>\n",
       "    </tr>\n",
       "    <tr>\n",
       "      <th>8157</th>\n",
       "      <td>10931</td>\n",
       "      <td>0</td>\n",
       "    </tr>\n",
       "  </tbody>\n",
       "</table>\n",
       "<p>8158 rows × 2 columns</p>\n",
       "</div>"
      ],
      "text/plain": [
       "      user_id  label\n",
       "0        2774      0\n",
       "1        2775      0\n",
       "2        2776      1\n",
       "3        2777      0\n",
       "4        2778      1\n",
       "...       ...    ...\n",
       "8153    10927      1\n",
       "8154    10928      1\n",
       "8155    10929      0\n",
       "8156    10930      1\n",
       "8157    10931      0\n",
       "\n",
       "[8158 rows x 2 columns]"
      ]
     },
     "execution_count": 139,
     "metadata": {},
     "output_type": "execute_result"
    }
   ],
   "source": [
    "train_df"
   ]
  },
  {
   "cell_type": "code",
   "execution_count": 140,
   "metadata": {
    "scrolled": false
   },
   "outputs": [
    {
     "data": {
      "text/plain": [
       "label\n",
       "0    5428\n",
       "1    2730\n",
       "Name: count, dtype: int64"
      ]
     },
     "execution_count": 140,
     "metadata": {},
     "output_type": "execute_result"
    }
   ],
   "source": [
    "train_df['label'].value_counts()"
   ]
  },
  {
   "cell_type": "markdown",
   "metadata": {},
   "source": [
    "训练集共 8158 个用户，其中流失用户大约占 1/3，需要注意的是为了匿名化，这里数据都经过一定的非均匀抽样处理，流失率并不反映实际游戏的情况，用户与关卡的 id 同样经过了重编号，但对于流失预测任务来说并没有影响。"
   ]
  },
  {
   "cell_type": "markdown",
   "metadata": {},
   "source": [
    "### dev.csv\n",
    "\n",
    "验证集格式和训练集相同，主要为了方便离线测试与模型选择。"
   ]
  },
  {
   "cell_type": "code",
   "execution_count": 141,
   "metadata": {
    "scrolled": true
   },
   "outputs": [
    {
     "data": {
      "text/html": [
       "<div>\n",
       "<style scoped>\n",
       "    .dataframe tbody tr th:only-of-type {\n",
       "        vertical-align: middle;\n",
       "    }\n",
       "\n",
       "    .dataframe tbody tr th {\n",
       "        vertical-align: top;\n",
       "    }\n",
       "\n",
       "    .dataframe thead th {\n",
       "        text-align: right;\n",
       "    }\n",
       "</style>\n",
       "<table border=\"1\" class=\"dataframe\">\n",
       "  <thead>\n",
       "    <tr style=\"text-align: right;\">\n",
       "      <th></th>\n",
       "      <th>0</th>\n",
       "      <th>1</th>\n",
       "      <th>2</th>\n",
       "      <th>3</th>\n",
       "      <th>4</th>\n",
       "      <th>5</th>\n",
       "      <th>6</th>\n",
       "      <th>7</th>\n",
       "      <th>8</th>\n",
       "      <th>9</th>\n",
       "      <th>...</th>\n",
       "      <th>2648</th>\n",
       "      <th>2649</th>\n",
       "      <th>2650</th>\n",
       "      <th>2651</th>\n",
       "      <th>2652</th>\n",
       "      <th>2653</th>\n",
       "      <th>2654</th>\n",
       "      <th>2655</th>\n",
       "      <th>2656</th>\n",
       "      <th>2657</th>\n",
       "    </tr>\n",
       "  </thead>\n",
       "  <tbody>\n",
       "    <tr>\n",
       "      <th>user_id</th>\n",
       "      <td>10932</td>\n",
       "      <td>10933</td>\n",
       "      <td>10934</td>\n",
       "      <td>10935</td>\n",
       "      <td>10936</td>\n",
       "      <td>10937</td>\n",
       "      <td>10938</td>\n",
       "      <td>10939</td>\n",
       "      <td>10940</td>\n",
       "      <td>10941</td>\n",
       "      <td>...</td>\n",
       "      <td>13580</td>\n",
       "      <td>13581</td>\n",
       "      <td>13582</td>\n",
       "      <td>13583</td>\n",
       "      <td>13584</td>\n",
       "      <td>13585</td>\n",
       "      <td>13586</td>\n",
       "      <td>13587</td>\n",
       "      <td>13588</td>\n",
       "      <td>13589</td>\n",
       "    </tr>\n",
       "    <tr>\n",
       "      <th>label</th>\n",
       "      <td>0</td>\n",
       "      <td>1</td>\n",
       "      <td>0</td>\n",
       "      <td>1</td>\n",
       "      <td>0</td>\n",
       "      <td>0</td>\n",
       "      <td>0</td>\n",
       "      <td>0</td>\n",
       "      <td>0</td>\n",
       "      <td>1</td>\n",
       "      <td>...</td>\n",
       "      <td>0</td>\n",
       "      <td>1</td>\n",
       "      <td>1</td>\n",
       "      <td>0</td>\n",
       "      <td>1</td>\n",
       "      <td>0</td>\n",
       "      <td>0</td>\n",
       "      <td>0</td>\n",
       "      <td>1</td>\n",
       "      <td>0</td>\n",
       "    </tr>\n",
       "  </tbody>\n",
       "</table>\n",
       "<p>2 rows × 2658 columns</p>\n",
       "</div>"
      ],
      "text/plain": [
       "          0      1      2      3      4      5      6      7      8      9     \\\n",
       "user_id  10932  10933  10934  10935  10936  10937  10938  10939  10940  10941   \n",
       "label        0      1      0      1      0      0      0      0      0      1   \n",
       "\n",
       "         ...   2648   2649   2650   2651   2652   2653   2654   2655   2656  \\\n",
       "user_id  ...  13580  13581  13582  13583  13584  13585  13586  13587  13588   \n",
       "label    ...      0      1      1      0      1      0      0      0      1   \n",
       "\n",
       "          2657  \n",
       "user_id  13589  \n",
       "label        0  \n",
       "\n",
       "[2 rows x 2658 columns]"
      ]
     },
     "execution_count": 141,
     "metadata": {},
     "output_type": "execute_result"
    }
   ],
   "source": [
    "dev_df = pd.read_csv('./data/dev.csv', sep='\\t')\n",
    "dev_df.T"
   ]
  },
  {
   "cell_type": "markdown",
   "metadata": {},
   "source": [
    "### test.csv\n",
    "测试集只包含用户 id，任务就是要预测这些用户的流失概率。"
   ]
  },
  {
   "cell_type": "code",
   "execution_count": 142,
   "metadata": {
    "scrolled": true
   },
   "outputs": [
    {
     "data": {
      "text/html": [
       "<div>\n",
       "<style scoped>\n",
       "    .dataframe tbody tr th:only-of-type {\n",
       "        vertical-align: middle;\n",
       "    }\n",
       "\n",
       "    .dataframe tbody tr th {\n",
       "        vertical-align: top;\n",
       "    }\n",
       "\n",
       "    .dataframe thead th {\n",
       "        text-align: right;\n",
       "    }\n",
       "</style>\n",
       "<table border=\"1\" class=\"dataframe\">\n",
       "  <thead>\n",
       "    <tr style=\"text-align: right;\">\n",
       "      <th></th>\n",
       "      <th>0</th>\n",
       "      <th>1</th>\n",
       "      <th>2</th>\n",
       "      <th>3</th>\n",
       "      <th>4</th>\n",
       "      <th>5</th>\n",
       "      <th>6</th>\n",
       "      <th>7</th>\n",
       "      <th>8</th>\n",
       "      <th>9</th>\n",
       "      <th>...</th>\n",
       "      <th>2763</th>\n",
       "      <th>2764</th>\n",
       "      <th>2765</th>\n",
       "      <th>2766</th>\n",
       "      <th>2767</th>\n",
       "      <th>2768</th>\n",
       "      <th>2769</th>\n",
       "      <th>2770</th>\n",
       "      <th>2771</th>\n",
       "      <th>2772</th>\n",
       "    </tr>\n",
       "  </thead>\n",
       "  <tbody>\n",
       "    <tr>\n",
       "      <th>user_id</th>\n",
       "      <td>1</td>\n",
       "      <td>2</td>\n",
       "      <td>3</td>\n",
       "      <td>4</td>\n",
       "      <td>5</td>\n",
       "      <td>6</td>\n",
       "      <td>7</td>\n",
       "      <td>8</td>\n",
       "      <td>9</td>\n",
       "      <td>10</td>\n",
       "      <td>...</td>\n",
       "      <td>2764</td>\n",
       "      <td>2765</td>\n",
       "      <td>2766</td>\n",
       "      <td>2767</td>\n",
       "      <td>2768</td>\n",
       "      <td>2769</td>\n",
       "      <td>2770</td>\n",
       "      <td>2771</td>\n",
       "      <td>2772</td>\n",
       "      <td>2773</td>\n",
       "    </tr>\n",
       "  </tbody>\n",
       "</table>\n",
       "<p>1 rows × 2773 columns</p>\n",
       "</div>"
      ],
      "text/plain": [
       "         0     1     2     3     4     5     6     7     8     9     ...  \\\n",
       "user_id     1     2     3     4     5     6     7     8     9    10  ...   \n",
       "\n",
       "         2763  2764  2765  2766  2767  2768  2769  2770  2771  2772  \n",
       "user_id  2764  2765  2766  2767  2768  2769  2770  2771  2772  2773  \n",
       "\n",
       "[1 rows x 2773 columns]"
      ]
     },
     "execution_count": 142,
     "metadata": {},
     "output_type": "execute_result"
    }
   ],
   "source": [
    "test_df = pd.read_csv('./data/test.csv', sep='\\t')\n",
    "test_df.T"
   ]
  },
  {
   "cell_type": "markdown",
   "metadata": {},
   "source": [
    "### level_seq.csv\n",
    "这个是核心的数据文件，包含用户游玩每个关卡的记录，每一条记录是对某个关卡的一次尝试，具体每列的含义如下：\n",
    "\n",
    "* `user_id`：用户 id，和训练、验证、测试集中的可以匹配；\n",
    "* `level_id`：关卡 id；\n",
    "* `f_success`：是否通关（1：通关，0：失败）；\n",
    "* `f_duration`：此次尝试所用的时间（单位 s）；\n",
    "* `f_reststep`：剩余步数与限定步数之比（失败为 0）；\n",
    "* `f_help`：是否使用了道具、提示等额外帮助（1：使用，0：未使用）；\n",
    "* `time`：时间戳。"
   ]
  },
  {
   "cell_type": "code",
   "execution_count": 143,
   "metadata": {},
   "outputs": [
    {
     "data": {
      "text/html": [
       "<div>\n",
       "<style scoped>\n",
       "    .dataframe tbody tr th:only-of-type {\n",
       "        vertical-align: middle;\n",
       "    }\n",
       "\n",
       "    .dataframe tbody tr th {\n",
       "        vertical-align: top;\n",
       "    }\n",
       "\n",
       "    .dataframe thead th {\n",
       "        text-align: right;\n",
       "    }\n",
       "</style>\n",
       "<table border=\"1\" class=\"dataframe\">\n",
       "  <thead>\n",
       "    <tr style=\"text-align: right;\">\n",
       "      <th></th>\n",
       "      <th>user_id</th>\n",
       "      <th>level_id</th>\n",
       "      <th>f_success</th>\n",
       "      <th>f_duration</th>\n",
       "      <th>f_reststep</th>\n",
       "      <th>f_help</th>\n",
       "      <th>time</th>\n",
       "    </tr>\n",
       "  </thead>\n",
       "  <tbody>\n",
       "    <tr>\n",
       "      <th>0</th>\n",
       "      <td>10932</td>\n",
       "      <td>1</td>\n",
       "      <td>1</td>\n",
       "      <td>127.0</td>\n",
       "      <td>0.500000</td>\n",
       "      <td>0</td>\n",
       "      <td>2020-02-01 00:05:51</td>\n",
       "    </tr>\n",
       "    <tr>\n",
       "      <th>1</th>\n",
       "      <td>10932</td>\n",
       "      <td>2</td>\n",
       "      <td>1</td>\n",
       "      <td>69.0</td>\n",
       "      <td>0.703704</td>\n",
       "      <td>0</td>\n",
       "      <td>2020-02-01 00:08:01</td>\n",
       "    </tr>\n",
       "    <tr>\n",
       "      <th>2</th>\n",
       "      <td>10932</td>\n",
       "      <td>3</td>\n",
       "      <td>1</td>\n",
       "      <td>67.0</td>\n",
       "      <td>0.560000</td>\n",
       "      <td>0</td>\n",
       "      <td>2020-02-01 00:09:50</td>\n",
       "    </tr>\n",
       "    <tr>\n",
       "      <th>3</th>\n",
       "      <td>10932</td>\n",
       "      <td>4</td>\n",
       "      <td>1</td>\n",
       "      <td>58.0</td>\n",
       "      <td>0.700000</td>\n",
       "      <td>0</td>\n",
       "      <td>2020-02-01 00:11:16</td>\n",
       "    </tr>\n",
       "    <tr>\n",
       "      <th>4</th>\n",
       "      <td>10932</td>\n",
       "      <td>5</td>\n",
       "      <td>1</td>\n",
       "      <td>83.0</td>\n",
       "      <td>0.666667</td>\n",
       "      <td>0</td>\n",
       "      <td>2020-02-01 00:13:12</td>\n",
       "    </tr>\n",
       "    <tr>\n",
       "      <th>...</th>\n",
       "      <td>...</td>\n",
       "      <td>...</td>\n",
       "      <td>...</td>\n",
       "      <td>...</td>\n",
       "      <td>...</td>\n",
       "      <td>...</td>\n",
       "      <td>...</td>\n",
       "    </tr>\n",
       "    <tr>\n",
       "      <th>2194346</th>\n",
       "      <td>10931</td>\n",
       "      <td>40</td>\n",
       "      <td>1</td>\n",
       "      <td>111.0</td>\n",
       "      <td>0.250000</td>\n",
       "      <td>1</td>\n",
       "      <td>2020-02-03 16:26:37</td>\n",
       "    </tr>\n",
       "    <tr>\n",
       "      <th>2194347</th>\n",
       "      <td>10931</td>\n",
       "      <td>41</td>\n",
       "      <td>1</td>\n",
       "      <td>76.0</td>\n",
       "      <td>0.277778</td>\n",
       "      <td>0</td>\n",
       "      <td>2020-02-03 16:28:06</td>\n",
       "    </tr>\n",
       "    <tr>\n",
       "      <th>2194348</th>\n",
       "      <td>10931</td>\n",
       "      <td>42</td>\n",
       "      <td>0</td>\n",
       "      <td>121.0</td>\n",
       "      <td>0.000000</td>\n",
       "      <td>1</td>\n",
       "      <td>2020-02-03 16:30:17</td>\n",
       "    </tr>\n",
       "    <tr>\n",
       "      <th>2194349</th>\n",
       "      <td>10931</td>\n",
       "      <td>42</td>\n",
       "      <td>0</td>\n",
       "      <td>115.0</td>\n",
       "      <td>0.000000</td>\n",
       "      <td>0</td>\n",
       "      <td>2020-02-03 16:33:40</td>\n",
       "    </tr>\n",
       "    <tr>\n",
       "      <th>2194350</th>\n",
       "      <td>10931</td>\n",
       "      <td>42</td>\n",
       "      <td>1</td>\n",
       "      <td>91.0</td>\n",
       "      <td>0.181818</td>\n",
       "      <td>0</td>\n",
       "      <td>2020-02-03 16:35:18</td>\n",
       "    </tr>\n",
       "  </tbody>\n",
       "</table>\n",
       "<p>2194351 rows × 7 columns</p>\n",
       "</div>"
      ],
      "text/plain": [
       "         user_id  level_id  f_success  f_duration  f_reststep  f_help  \\\n",
       "0          10932         1          1       127.0    0.500000       0   \n",
       "1          10932         2          1        69.0    0.703704       0   \n",
       "2          10932         3          1        67.0    0.560000       0   \n",
       "3          10932         4          1        58.0    0.700000       0   \n",
       "4          10932         5          1        83.0    0.666667       0   \n",
       "...          ...       ...        ...         ...         ...     ...   \n",
       "2194346    10931        40          1       111.0    0.250000       1   \n",
       "2194347    10931        41          1        76.0    0.277778       0   \n",
       "2194348    10931        42          0       121.0    0.000000       1   \n",
       "2194349    10931        42          0       115.0    0.000000       0   \n",
       "2194350    10931        42          1        91.0    0.181818       0   \n",
       "\n",
       "                        time  \n",
       "0        2020-02-01 00:05:51  \n",
       "1        2020-02-01 00:08:01  \n",
       "2        2020-02-01 00:09:50  \n",
       "3        2020-02-01 00:11:16  \n",
       "4        2020-02-01 00:13:12  \n",
       "...                      ...  \n",
       "2194346  2020-02-03 16:26:37  \n",
       "2194347  2020-02-03 16:28:06  \n",
       "2194348  2020-02-03 16:30:17  \n",
       "2194349  2020-02-03 16:33:40  \n",
       "2194350  2020-02-03 16:35:18  \n",
       "\n",
       "[2194351 rows x 7 columns]"
      ]
     },
     "execution_count": 143,
     "metadata": {},
     "output_type": "execute_result"
    }
   ],
   "source": [
    "seq_df = pd.read_csv('./data/level_seq.csv', sep='\\t')\n",
    "seq_df"
   ]
  },
  {
   "cell_type": "markdown",
   "metadata": {},
   "source": [
    "### level_meta.csv\n",
    "每个关卡的一些统计特征，可用于表示关卡，具体每列的含义如下：\n",
    "\n",
    "* `f_avg_duration`：平均每次尝试花费的时间（单位 s，包含成功与失败的尝试）；\n",
    "* `f_avg_passrate`：平均通关率；\n",
    "* `f_avg_win_duration`：平均每次通关花费的时间（单位 s，只包含通关的尝试）；\n",
    "* `f_avg_retrytimes`：平均重试次数（第二次玩同一关算第 1 次重试）；\n",
    "* `level_id`：关卡 id，可以和 level_seq.csv 中的关卡匹配。"
   ]
  },
  {
   "cell_type": "code",
   "execution_count": 144,
   "metadata": {},
   "outputs": [
    {
     "data": {
      "text/html": [
       "<div>\n",
       "<style scoped>\n",
       "    .dataframe tbody tr th:only-of-type {\n",
       "        vertical-align: middle;\n",
       "    }\n",
       "\n",
       "    .dataframe tbody tr th {\n",
       "        vertical-align: top;\n",
       "    }\n",
       "\n",
       "    .dataframe thead th {\n",
       "        text-align: right;\n",
       "    }\n",
       "</style>\n",
       "<table border=\"1\" class=\"dataframe\">\n",
       "  <thead>\n",
       "    <tr style=\"text-align: right;\">\n",
       "      <th></th>\n",
       "      <th>f_avg_duration</th>\n",
       "      <th>f_avg_passrate</th>\n",
       "      <th>f_avg_win_duration</th>\n",
       "      <th>f_avg_retrytimes</th>\n",
       "      <th>level_id</th>\n",
       "    </tr>\n",
       "  </thead>\n",
       "  <tbody>\n",
       "    <tr>\n",
       "      <th>0</th>\n",
       "      <td>39.889940</td>\n",
       "      <td>0.944467</td>\n",
       "      <td>35.582757</td>\n",
       "      <td>0.017225</td>\n",
       "      <td>1</td>\n",
       "    </tr>\n",
       "    <tr>\n",
       "      <th>1</th>\n",
       "      <td>60.683975</td>\n",
       "      <td>0.991836</td>\n",
       "      <td>56.715706</td>\n",
       "      <td>0.004638</td>\n",
       "      <td>2</td>\n",
       "    </tr>\n",
       "    <tr>\n",
       "      <th>2</th>\n",
       "      <td>76.947355</td>\n",
       "      <td>0.991232</td>\n",
       "      <td>71.789943</td>\n",
       "      <td>0.004480</td>\n",
       "      <td>3</td>\n",
       "    </tr>\n",
       "    <tr>\n",
       "      <th>3</th>\n",
       "      <td>58.170347</td>\n",
       "      <td>0.993843</td>\n",
       "      <td>54.842882</td>\n",
       "      <td>0.004761</td>\n",
       "      <td>4</td>\n",
       "    </tr>\n",
       "    <tr>\n",
       "      <th>4</th>\n",
       "      <td>101.784577</td>\n",
       "      <td>0.954170</td>\n",
       "      <td>85.650547</td>\n",
       "      <td>0.027353</td>\n",
       "      <td>5</td>\n",
       "    </tr>\n",
       "    <tr>\n",
       "      <th>...</th>\n",
       "      <td>...</td>\n",
       "      <td>...</td>\n",
       "      <td>...</td>\n",
       "      <td>...</td>\n",
       "      <td>...</td>\n",
       "    </tr>\n",
       "    <tr>\n",
       "      <th>1504</th>\n",
       "      <td>594.878788</td>\n",
       "      <td>0.453730</td>\n",
       "      <td>133.625000</td>\n",
       "      <td>3.187500</td>\n",
       "      <td>1505</td>\n",
       "    </tr>\n",
       "    <tr>\n",
       "      <th>1505</th>\n",
       "      <td>486.562500</td>\n",
       "      <td>0.454180</td>\n",
       "      <td>115.906250</td>\n",
       "      <td>3.218750</td>\n",
       "      <td>1506</td>\n",
       "    </tr>\n",
       "    <tr>\n",
       "      <th>1506</th>\n",
       "      <td>325.968750</td>\n",
       "      <td>0.573525</td>\n",
       "      <td>86.250000</td>\n",
       "      <td>2.687500</td>\n",
       "      <td>1507</td>\n",
       "    </tr>\n",
       "    <tr>\n",
       "      <th>1507</th>\n",
       "      <td>793.096774</td>\n",
       "      <td>0.322684</td>\n",
       "      <td>164.000000</td>\n",
       "      <td>5.419355</td>\n",
       "      <td>1508</td>\n",
       "    </tr>\n",
       "    <tr>\n",
       "      <th>1508</th>\n",
       "      <td>423.406250</td>\n",
       "      <td>0.461409</td>\n",
       "      <td>106.833333</td>\n",
       "      <td>2.200000</td>\n",
       "      <td>1509</td>\n",
       "    </tr>\n",
       "  </tbody>\n",
       "</table>\n",
       "<p>1509 rows × 5 columns</p>\n",
       "</div>"
      ],
      "text/plain": [
       "      f_avg_duration  f_avg_passrate  f_avg_win_duration  f_avg_retrytimes  \\\n",
       "0          39.889940        0.944467           35.582757          0.017225   \n",
       "1          60.683975        0.991836           56.715706          0.004638   \n",
       "2          76.947355        0.991232           71.789943          0.004480   \n",
       "3          58.170347        0.993843           54.842882          0.004761   \n",
       "4         101.784577        0.954170           85.650547          0.027353   \n",
       "...              ...             ...                 ...               ...   \n",
       "1504      594.878788        0.453730          133.625000          3.187500   \n",
       "1505      486.562500        0.454180          115.906250          3.218750   \n",
       "1506      325.968750        0.573525           86.250000          2.687500   \n",
       "1507      793.096774        0.322684          164.000000          5.419355   \n",
       "1508      423.406250        0.461409          106.833333          2.200000   \n",
       "\n",
       "      level_id  \n",
       "0            1  \n",
       "1            2  \n",
       "2            3  \n",
       "3            4  \n",
       "4            5  \n",
       "...        ...  \n",
       "1504      1505  \n",
       "1505      1506  \n",
       "1506      1507  \n",
       "1507      1508  \n",
       "1508      1509  \n",
       "\n",
       "[1509 rows x 5 columns]"
      ]
     },
     "execution_count": 144,
     "metadata": {},
     "output_type": "execute_result"
    }
   ],
   "source": [
    "meta_df = pd.read_csv('./data/level_meta.csv', sep='\\t')\n",
    "meta_df"
   ]
  },
  {
   "cell_type": "markdown",
   "metadata": {},
   "source": [
    "auc需达到0.65以上"
   ]
  },
  {
   "cell_type": "markdown",
   "metadata": {},
   "source": [
    "## 四、Tips\n",
    "\n",
    "* 一个基本的思路可以是：根据游玩关卡的记录为每个用户提取特征 → 结合 label 构建表格式的数据集 → 使用不同模型训练与测试；\n",
    "* 还可以借助其他模型（如循环神经网络）直接对用户历史序列建模；\n",
    "* 数据量太大运行时间过长的话，可以先在一个采样的小训练集上调参；\n",
    "* 集成多种模型往往能达到更优的效果；\n",
    "* 可以使用各种开源工具。"
   ]
  },
  {
   "cell_type": "markdown",
   "metadata": {},
   "source": [
    "## 五、云平台使用简介"
   ]
  },
  {
   "cell_type": "markdown",
   "metadata": {},
   "source": [
    "- 腾讯云的TI-ONE平台\n",
    "- 启动notebook并使用"
   ]
  },
  {
   "cell_type": "markdown",
   "metadata": {},
   "source": [
    "## 六、实验过程"
   ]
  },
  {
   "cell_type": "markdown",
   "metadata": {},
   "source": [
    "### 6.1、数据处理\n",
    "\n",
    "\n",
    "#### level_seq.csv\n",
    "\n",
    "这个是核心的数据文件，包含用户游玩每个关卡的记录，每一条记录是对某个关卡的一次尝试，具体每列的含义如下：\n",
    "\n",
    "* `user_id`：用户 id，和训练、验证、测试集中的可以匹配；\n",
    "* `level_id`：关卡 id；\n",
    "* `f_success`：是否通关（1：通关，0：失败）；\n",
    "* `f_duration`：此次尝试所用的时间（单位 s）；\n",
    "* `f_reststep`：剩余步数与限定步数之比（失败为 0）；\n",
    "* `f_help`：是否使用了道具、提示等额外帮助（1：使用，0：未使用）；\n",
    "* `time`：时间戳。\n",
    "\n",
    "#### level_meta.csv\n",
    "\n",
    "每个关卡的一些统计特征，可用于表示关卡，具体每列的含义如下：\n",
    "\n",
    "* `f_avg_duration`：平均每次尝试花费的时间（单位 s，包含成功与失败的尝试）；\n",
    "* `f_avg_passrate`：平均通关率；\n",
    "* `f_avg_win_duration`：平均每次通关花费的时间（单位 s，只包含通关的尝试）；\n",
    "* `f_avg_retrytimes`：平均重试次数（第二次玩同一关算第 1 次重试）；\n",
    "* `level_id`：关卡 id，可以和 level_seq.csv 中的关卡匹配。"
   ]
  },
  {
   "cell_type": "markdown",
   "metadata": {},
   "source": [
    "#### 根据游玩关卡的记录为每个用户提取特征\n",
    "\n",
    "将每个用户按照特征聚合为一条记录，从直觉上查找几个特征来描述用户画像，达不到标准再继续找。\n",
    "- 是否感兴趣\n",
    "  - 登录天数\n",
    "  - 登录次数\n",
    "  - 关卡总时长\n",
    "  - 最后一天玩的局数\n",
    "  - 最后一天玩的总时长\n",
    "  - 尝试次数\n",
    "- 用户游戏能力\n",
    "  - 最大重试次数\n",
    "  - 平均通关时长-平均时长\n",
    "  - 平均剩余步数/限定步数\n",
    "  - 通关树/总尝试次数\n",
    "  - 最大闯关数\n",
    "  - 最后10局通关率\n",
    "  - 最后3局通关率"
   ]
  },
  {
   "cell_type": "code",
   "execution_count": 145,
   "metadata": {},
   "outputs": [
    {
     "data": {
      "text/plain": [
       "user_id\n",
       "1        0.263291\n",
       "2        0.514768\n",
       "3        0.608696\n",
       "4        0.532710\n",
       "5        0.420168\n",
       "           ...   \n",
       "13585    0.451613\n",
       "13586    0.446945\n",
       "13587    0.700000\n",
       "13588    0.964286\n",
       "13589    0.809524\n",
       "Name: pass_rate, Length: 13589, dtype: float64"
      ]
     },
     "execution_count": 145,
     "metadata": {},
     "output_type": "execute_result"
    }
   ],
   "source": [
    "try_times = seq_df.groupby('user_id')['f_success'].count().fillna(1)\n",
    "pass_times = seq_df.groupby('user_id')['f_success'].sum().fillna(0).rename('pass_times')\n",
    "pass_rate = (pass_times / try_times).rename('pass_rate')\n",
    "pass_rate"
   ]
  },
  {
   "cell_type": "code",
   "execution_count": 146,
   "metadata": {},
   "outputs": [],
   "source": [
    "# 时间戳按照年月日时分秒切分\n",
    "seq_df['timestamp'] = pd.to_datetime(seq_df['time'])\n",
    "seq_df['date'] = seq_df['timestamp'].dt.date\n",
    "seq_df['year'] = seq_df['timestamp'].dt.year\n",
    "seq_df['month'] = seq_df['timestamp'].dt.month\n",
    "seq_df['day'] = seq_df['timestamp'].dt.day\n",
    "seq_df['hour'] = seq_df['timestamp'].dt.hour\n",
    "seq_df['minute'] = seq_df['timestamp'].dt.minute\n",
    "seq_df['second'] = seq_df['timestamp'].dt.second\n"
   ]
  },
  {
   "cell_type": "code",
   "execution_count": 147,
   "metadata": {},
   "outputs": [
    {
     "data": {
      "text/plain": [
       "user_id\n",
       "1        4\n",
       "2        4\n",
       "3        2\n",
       "4        4\n",
       "5        4\n",
       "        ..\n",
       "13585    3\n",
       "13586    3\n",
       "13587    2\n",
       "13588    2\n",
       "13589    2\n",
       "Name: login_days, Length: 13589, dtype: int64"
      ]
     },
     "execution_count": 147,
     "metadata": {},
     "output_type": "execute_result"
    }
   ],
   "source": [
    "\n",
    "# 登录天数(每个用户登陆了多少天)\n",
    "login_days = seq_df.groupby('user_id')['date'].nunique().fillna(0).rename('login_days')\n",
    "login_days"
   ]
  },
  {
   "cell_type": "code",
   "execution_count": 148,
   "metadata": {},
   "outputs": [
    {
     "data": {
      "text/plain": [
       "user_id\n",
       "1        395\n",
       "2        237\n",
       "3        230\n",
       "4        107\n",
       "5        238\n",
       "        ... \n",
       "13585    248\n",
       "13586    311\n",
       "13587     20\n",
       "13588     28\n",
       "13589     21\n",
       "Name: login_times, Length: 13589, dtype: int64"
      ]
     },
     "execution_count": 148,
     "metadata": {},
     "output_type": "execute_result"
    }
   ],
   "source": [
    "\n",
    "# 登录次数\n",
    "login_times = seq_df.groupby('user_id')['date'].count().fillna(0).rename('login_times')\n",
    "login_times\n"
   ]
  },
  {
   "cell_type": "code",
   "execution_count": 149,
   "metadata": {},
   "outputs": [
    {
     "data": {
      "text/plain": [
       "count     13589.000000\n",
       "mean      17459.662668\n",
       "std       19144.372900\n",
       "min           9.000000\n",
       "25%        4333.000000\n",
       "50%       11848.000000\n",
       "75%       24334.000000\n",
       "max      534421.000000\n",
       "Name: total_duration, dtype: float64"
      ]
     },
     "execution_count": 149,
     "metadata": {},
     "output_type": "execute_result"
    }
   ],
   "source": [
    "# 关卡总时长\n",
    "total_duration = seq_df.groupby('user_id')['f_duration'].sum().fillna(0).rename('total_duration')\n",
    "total_duration.describe()\n"
   ]
  },
  {
   "cell_type": "code",
   "execution_count": 150,
   "metadata": {},
   "outputs": [
    {
     "data": {
      "text/plain": [
       "user_id\n",
       "1         3751.0\n",
       "2         2840.0\n",
       "3         4997.0\n",
       "4         1811.0\n",
       "5         1124.0\n",
       "          ...   \n",
       "13585    10111.0\n",
       "13586    11735.0\n",
       "13587     1197.0\n",
       "13588     2104.0\n",
       "13589     1104.0\n",
       "Name: user_last_day_duration, Length: 13589, dtype: float64"
      ]
     },
     "execution_count": 150,
     "metadata": {},
     "output_type": "execute_result"
    }
   ],
   "source": [
    "# 最后一天玩的总时长\n",
    "\n",
    "seq_df['user_max_date'] = seq_df.groupby('user_id')['date'].transform('max')\n",
    "\n",
    "# 筛选每个用户最后一天的数据并计算f_duration总和\n",
    "user_last_day_duration = seq_df[seq_df['date'] == seq_df['user_max_date']].groupby('user_id')['f_duration'].sum().fillna(0).rename('user_last_day_duration')\n",
    "user_last_day_duration\n"
   ]
  },
  {
   "cell_type": "code",
   "execution_count": 151,
   "metadata": {},
   "outputs": [
    {
     "data": {
      "text/plain": [
       "user_id\n",
       "1         35\n",
       "2         35\n",
       "3         46\n",
       "4         13\n",
       "5          7\n",
       "        ... \n",
       "13585     81\n",
       "13586    106\n",
       "13587     12\n",
       "13588     27\n",
       "13589     14\n",
       "Name: user_last_day_games, Length: 13589, dtype: int64"
      ]
     },
     "execution_count": 151,
     "metadata": {},
     "output_type": "execute_result"
    }
   ],
   "source": [
    "\n",
    "# 最后一天玩的局数\n",
    "user_last_day_games = seq_df[seq_df['date'] == seq_df['user_max_date']].groupby('user_id')['f_duration'].count().fillna(0).rename('user_last_day_games')\n",
    "user_last_day_games"
   ]
  },
  {
   "cell_type": "code",
   "execution_count": null,
   "metadata": {},
   "outputs": [],
   "source": [
    "\n"
   ]
  },
  {
   "cell_type": "code",
   "execution_count": 152,
   "metadata": {},
   "outputs": [
    {
     "data": {
      "text/plain": [
       "user_id\n",
       "1        286\n",
       "2        115\n",
       "3         87\n",
       "4         49\n",
       "5        133\n",
       "        ... \n",
       "13585    136\n",
       "13586    173\n",
       "13587      5\n",
       "13588      1\n",
       "13589      3\n",
       "Name: retry_times, Length: 13589, dtype: int64"
      ]
     },
     "execution_count": 152,
     "metadata": {},
     "output_type": "execute_result"
    }
   ],
   "source": [
    "# 重试次数\n",
    "# 计算每个用户在每个关卡的出现次数\n",
    "level_counts = seq_df.groupby(['user_id', 'level_id']).size().reset_index(name='play_times')\n",
    "# level_retry_times = level_counts['retry_times'].map(lambda x: x - 1 if x > 0 else 0)\n",
    "level_counts['retry_times'] = level_counts['play_times'].map(lambda x: x - 1 if x > 0 else 0)\n",
    "retry_times = level_counts.groupby('user_id')['retry_times'].sum().rename('retry_times')\n",
    "retry_times"
   ]
  },
  {
   "cell_type": "code",
   "execution_count": 153,
   "metadata": {},
   "outputs": [
    {
     "data": {
      "text/html": [
       "<div>\n",
       "<style scoped>\n",
       "    .dataframe tbody tr th:only-of-type {\n",
       "        vertical-align: middle;\n",
       "    }\n",
       "\n",
       "    .dataframe tbody tr th {\n",
       "        vertical-align: top;\n",
       "    }\n",
       "\n",
       "    .dataframe thead th {\n",
       "        text-align: right;\n",
       "    }\n",
       "</style>\n",
       "<table border=\"1\" class=\"dataframe\">\n",
       "  <thead>\n",
       "    <tr style=\"text-align: right;\">\n",
       "      <th></th>\n",
       "      <th>f_avg_duration</th>\n",
       "      <th>f_avg_passrate</th>\n",
       "      <th>f_avg_win_duration</th>\n",
       "      <th>f_avg_retrytimes</th>\n",
       "      <th>level_id</th>\n",
       "    </tr>\n",
       "  </thead>\n",
       "  <tbody>\n",
       "    <tr>\n",
       "      <th>0</th>\n",
       "      <td>39.889940</td>\n",
       "      <td>0.944467</td>\n",
       "      <td>35.582757</td>\n",
       "      <td>0.017225</td>\n",
       "      <td>1</td>\n",
       "    </tr>\n",
       "    <tr>\n",
       "      <th>1</th>\n",
       "      <td>60.683975</td>\n",
       "      <td>0.991836</td>\n",
       "      <td>56.715706</td>\n",
       "      <td>0.004638</td>\n",
       "      <td>2</td>\n",
       "    </tr>\n",
       "    <tr>\n",
       "      <th>2</th>\n",
       "      <td>76.947355</td>\n",
       "      <td>0.991232</td>\n",
       "      <td>71.789943</td>\n",
       "      <td>0.004480</td>\n",
       "      <td>3</td>\n",
       "    </tr>\n",
       "    <tr>\n",
       "      <th>3</th>\n",
       "      <td>58.170347</td>\n",
       "      <td>0.993843</td>\n",
       "      <td>54.842882</td>\n",
       "      <td>0.004761</td>\n",
       "      <td>4</td>\n",
       "    </tr>\n",
       "    <tr>\n",
       "      <th>4</th>\n",
       "      <td>101.784577</td>\n",
       "      <td>0.954170</td>\n",
       "      <td>85.650547</td>\n",
       "      <td>0.027353</td>\n",
       "      <td>5</td>\n",
       "    </tr>\n",
       "  </tbody>\n",
       "</table>\n",
       "</div>"
      ],
      "text/plain": [
       "   f_avg_duration  f_avg_passrate  f_avg_win_duration  f_avg_retrytimes  \\\n",
       "0       39.889940        0.944467           35.582757          0.017225   \n",
       "1       60.683975        0.991836           56.715706          0.004638   \n",
       "2       76.947355        0.991232           71.789943          0.004480   \n",
       "3       58.170347        0.993843           54.842882          0.004761   \n",
       "4      101.784577        0.954170           85.650547          0.027353   \n",
       "\n",
       "   level_id  \n",
       "0         1  \n",
       "1         2  \n",
       "2         3  \n",
       "3         4  \n",
       "4         5  "
      ]
     },
     "execution_count": 153,
     "metadata": {},
     "output_type": "execute_result"
    }
   ],
   "source": [
    "meta_df.head()"
   ]
  },
  {
   "cell_type": "code",
   "execution_count": 154,
   "metadata": {},
   "outputs": [
    {
     "data": {
      "text/html": [
       "<div>\n",
       "<style scoped>\n",
       "    .dataframe tbody tr th:only-of-type {\n",
       "        vertical-align: middle;\n",
       "    }\n",
       "\n",
       "    .dataframe tbody tr th {\n",
       "        vertical-align: top;\n",
       "    }\n",
       "\n",
       "    .dataframe thead th {\n",
       "        text-align: right;\n",
       "    }\n",
       "</style>\n",
       "<table border=\"1\" class=\"dataframe\">\n",
       "  <thead>\n",
       "    <tr style=\"text-align: right;\">\n",
       "      <th></th>\n",
       "      <th>user_id</th>\n",
       "      <th>level_id</th>\n",
       "      <th>f_success</th>\n",
       "      <th>f_duration</th>\n",
       "      <th>f_reststep</th>\n",
       "      <th>f_help</th>\n",
       "      <th>time</th>\n",
       "      <th>timestamp</th>\n",
       "      <th>date</th>\n",
       "      <th>year</th>\n",
       "      <th>month</th>\n",
       "      <th>day</th>\n",
       "      <th>hour</th>\n",
       "      <th>minute</th>\n",
       "      <th>second</th>\n",
       "      <th>user_max_date</th>\n",
       "      <th>f_avg_duration</th>\n",
       "      <th>f_avg_passrate</th>\n",
       "      <th>f_avg_win_duration</th>\n",
       "      <th>f_avg_retrytimes</th>\n",
       "    </tr>\n",
       "  </thead>\n",
       "  <tbody>\n",
       "    <tr>\n",
       "      <th>0</th>\n",
       "      <td>10932</td>\n",
       "      <td>1</td>\n",
       "      <td>1</td>\n",
       "      <td>127.0</td>\n",
       "      <td>0.500000</td>\n",
       "      <td>0</td>\n",
       "      <td>2020-02-01 00:05:51</td>\n",
       "      <td>2020-02-01 00:05:51</td>\n",
       "      <td>2020-02-01</td>\n",
       "      <td>2020</td>\n",
       "      <td>2</td>\n",
       "      <td>1</td>\n",
       "      <td>0</td>\n",
       "      <td>5</td>\n",
       "      <td>51</td>\n",
       "      <td>2020-02-04</td>\n",
       "      <td>39.889940</td>\n",
       "      <td>0.944467</td>\n",
       "      <td>35.582757</td>\n",
       "      <td>0.017225</td>\n",
       "    </tr>\n",
       "    <tr>\n",
       "      <th>1</th>\n",
       "      <td>10932</td>\n",
       "      <td>2</td>\n",
       "      <td>1</td>\n",
       "      <td>69.0</td>\n",
       "      <td>0.703704</td>\n",
       "      <td>0</td>\n",
       "      <td>2020-02-01 00:08:01</td>\n",
       "      <td>2020-02-01 00:08:01</td>\n",
       "      <td>2020-02-01</td>\n",
       "      <td>2020</td>\n",
       "      <td>2</td>\n",
       "      <td>1</td>\n",
       "      <td>0</td>\n",
       "      <td>8</td>\n",
       "      <td>1</td>\n",
       "      <td>2020-02-04</td>\n",
       "      <td>60.683975</td>\n",
       "      <td>0.991836</td>\n",
       "      <td>56.715706</td>\n",
       "      <td>0.004638</td>\n",
       "    </tr>\n",
       "    <tr>\n",
       "      <th>2</th>\n",
       "      <td>10932</td>\n",
       "      <td>3</td>\n",
       "      <td>1</td>\n",
       "      <td>67.0</td>\n",
       "      <td>0.560000</td>\n",
       "      <td>0</td>\n",
       "      <td>2020-02-01 00:09:50</td>\n",
       "      <td>2020-02-01 00:09:50</td>\n",
       "      <td>2020-02-01</td>\n",
       "      <td>2020</td>\n",
       "      <td>2</td>\n",
       "      <td>1</td>\n",
       "      <td>0</td>\n",
       "      <td>9</td>\n",
       "      <td>50</td>\n",
       "      <td>2020-02-04</td>\n",
       "      <td>76.947355</td>\n",
       "      <td>0.991232</td>\n",
       "      <td>71.789943</td>\n",
       "      <td>0.004480</td>\n",
       "    </tr>\n",
       "    <tr>\n",
       "      <th>3</th>\n",
       "      <td>10932</td>\n",
       "      <td>4</td>\n",
       "      <td>1</td>\n",
       "      <td>58.0</td>\n",
       "      <td>0.700000</td>\n",
       "      <td>0</td>\n",
       "      <td>2020-02-01 00:11:16</td>\n",
       "      <td>2020-02-01 00:11:16</td>\n",
       "      <td>2020-02-01</td>\n",
       "      <td>2020</td>\n",
       "      <td>2</td>\n",
       "      <td>1</td>\n",
       "      <td>0</td>\n",
       "      <td>11</td>\n",
       "      <td>16</td>\n",
       "      <td>2020-02-04</td>\n",
       "      <td>58.170347</td>\n",
       "      <td>0.993843</td>\n",
       "      <td>54.842882</td>\n",
       "      <td>0.004761</td>\n",
       "    </tr>\n",
       "    <tr>\n",
       "      <th>4</th>\n",
       "      <td>10932</td>\n",
       "      <td>5</td>\n",
       "      <td>1</td>\n",
       "      <td>83.0</td>\n",
       "      <td>0.666667</td>\n",
       "      <td>0</td>\n",
       "      <td>2020-02-01 00:13:12</td>\n",
       "      <td>2020-02-01 00:13:12</td>\n",
       "      <td>2020-02-01</td>\n",
       "      <td>2020</td>\n",
       "      <td>2</td>\n",
       "      <td>1</td>\n",
       "      <td>0</td>\n",
       "      <td>13</td>\n",
       "      <td>12</td>\n",
       "      <td>2020-02-04</td>\n",
       "      <td>101.784577</td>\n",
       "      <td>0.954170</td>\n",
       "      <td>85.650547</td>\n",
       "      <td>0.027353</td>\n",
       "    </tr>\n",
       "  </tbody>\n",
       "</table>\n",
       "</div>"
      ],
      "text/plain": [
       "   user_id  level_id  f_success  f_duration  f_reststep  f_help  \\\n",
       "0    10932         1          1       127.0    0.500000       0   \n",
       "1    10932         2          1        69.0    0.703704       0   \n",
       "2    10932         3          1        67.0    0.560000       0   \n",
       "3    10932         4          1        58.0    0.700000       0   \n",
       "4    10932         5          1        83.0    0.666667       0   \n",
       "\n",
       "                  time           timestamp        date  year  month  day  \\\n",
       "0  2020-02-01 00:05:51 2020-02-01 00:05:51  2020-02-01  2020      2    1   \n",
       "1  2020-02-01 00:08:01 2020-02-01 00:08:01  2020-02-01  2020      2    1   \n",
       "2  2020-02-01 00:09:50 2020-02-01 00:09:50  2020-02-01  2020      2    1   \n",
       "3  2020-02-01 00:11:16 2020-02-01 00:11:16  2020-02-01  2020      2    1   \n",
       "4  2020-02-01 00:13:12 2020-02-01 00:13:12  2020-02-01  2020      2    1   \n",
       "\n",
       "   hour  minute  second user_max_date  f_avg_duration  f_avg_passrate  \\\n",
       "0     0       5      51    2020-02-04       39.889940        0.944467   \n",
       "1     0       8       1    2020-02-04       60.683975        0.991836   \n",
       "2     0       9      50    2020-02-04       76.947355        0.991232   \n",
       "3     0      11      16    2020-02-04       58.170347        0.993843   \n",
       "4     0      13      12    2020-02-04      101.784577        0.954170   \n",
       "\n",
       "   f_avg_win_duration  f_avg_retrytimes  \n",
       "0           35.582757          0.017225  \n",
       "1           56.715706          0.004638  \n",
       "2           71.789943          0.004480  \n",
       "3           54.842882          0.004761  \n",
       "4           85.650547          0.027353  "
      ]
     },
     "execution_count": 154,
     "metadata": {},
     "output_type": "execute_result"
    }
   ],
   "source": [
    "level_with_meta = seq_df.merge(meta_df, on='level_id', how='left')\n",
    "level_with_meta.head()\n",
    "# 玩家某关平均通关时长-此关统计平均时长\n",
    "\n",
    "# user_minus_static = level_with_meta.groupby('user_id')['f_duration'].mean().fillna(0).reset_index()\n",
    "# user_minus_static.describe()\n",
    "\n",
    "# 平均剩余步数/限定步数\n",
    "# 通关树/总尝试次数\n",
    "# 最大闯关数\n",
    "# 最后10局通关率\n",
    "# 最后3局通关率"
   ]
  },
  {
   "cell_type": "markdown",
   "metadata": {},
   "source": [
    "#### 结合 label 构建表格式的数据集"
   ]
  },
  {
   "cell_type": "code",
   "execution_count": 155,
   "metadata": {},
   "outputs": [
    {
     "data": {
      "text/html": [
       "<div>\n",
       "<style scoped>\n",
       "    .dataframe tbody tr th:only-of-type {\n",
       "        vertical-align: middle;\n",
       "    }\n",
       "\n",
       "    .dataframe tbody tr th {\n",
       "        vertical-align: top;\n",
       "    }\n",
       "\n",
       "    .dataframe thead th {\n",
       "        text-align: right;\n",
       "    }\n",
       "</style>\n",
       "<table border=\"1\" class=\"dataframe\">\n",
       "  <thead>\n",
       "    <tr style=\"text-align: right;\">\n",
       "      <th></th>\n",
       "      <th>user_id</th>\n",
       "      <th>label</th>\n",
       "    </tr>\n",
       "  </thead>\n",
       "  <tbody>\n",
       "    <tr>\n",
       "      <th>0</th>\n",
       "      <td>2774</td>\n",
       "      <td>0</td>\n",
       "    </tr>\n",
       "    <tr>\n",
       "      <th>1</th>\n",
       "      <td>2775</td>\n",
       "      <td>0</td>\n",
       "    </tr>\n",
       "    <tr>\n",
       "      <th>2</th>\n",
       "      <td>2776</td>\n",
       "      <td>1</td>\n",
       "    </tr>\n",
       "    <tr>\n",
       "      <th>3</th>\n",
       "      <td>2777</td>\n",
       "      <td>0</td>\n",
       "    </tr>\n",
       "    <tr>\n",
       "      <th>4</th>\n",
       "      <td>2778</td>\n",
       "      <td>1</td>\n",
       "    </tr>\n",
       "  </tbody>\n",
       "</table>\n",
       "</div>"
      ],
      "text/plain": [
       "   user_id  label\n",
       "0     2774      0\n",
       "1     2775      0\n",
       "2     2776      1\n",
       "3     2777      0\n",
       "4     2778      1"
      ]
     },
     "execution_count": 155,
     "metadata": {},
     "output_type": "execute_result"
    }
   ],
   "source": [
    "train_df.head()"
   ]
  },
  {
   "cell_type": "code",
   "execution_count": 156,
   "metadata": {},
   "outputs": [
    {
     "data": {
      "text/html": [
       "<div>\n",
       "<style scoped>\n",
       "    .dataframe tbody tr th:only-of-type {\n",
       "        vertical-align: middle;\n",
       "    }\n",
       "\n",
       "    .dataframe tbody tr th {\n",
       "        vertical-align: top;\n",
       "    }\n",
       "\n",
       "    .dataframe thead th {\n",
       "        text-align: right;\n",
       "    }\n",
       "</style>\n",
       "<table border=\"1\" class=\"dataframe\">\n",
       "  <thead>\n",
       "    <tr style=\"text-align: right;\">\n",
       "      <th></th>\n",
       "      <th>user_id</th>\n",
       "      <th>level_id</th>\n",
       "      <th>f_success</th>\n",
       "      <th>f_duration</th>\n",
       "      <th>f_reststep</th>\n",
       "      <th>f_help</th>\n",
       "      <th>time</th>\n",
       "      <th>timestamp</th>\n",
       "      <th>date</th>\n",
       "      <th>year</th>\n",
       "      <th>month</th>\n",
       "      <th>day</th>\n",
       "      <th>hour</th>\n",
       "      <th>minute</th>\n",
       "      <th>second</th>\n",
       "      <th>user_max_date</th>\n",
       "    </tr>\n",
       "  </thead>\n",
       "  <tbody>\n",
       "    <tr>\n",
       "      <th>0</th>\n",
       "      <td>10932</td>\n",
       "      <td>1</td>\n",
       "      <td>1</td>\n",
       "      <td>127.0</td>\n",
       "      <td>0.500000</td>\n",
       "      <td>0</td>\n",
       "      <td>2020-02-01 00:05:51</td>\n",
       "      <td>2020-02-01 00:05:51</td>\n",
       "      <td>2020-02-01</td>\n",
       "      <td>2020</td>\n",
       "      <td>2</td>\n",
       "      <td>1</td>\n",
       "      <td>0</td>\n",
       "      <td>5</td>\n",
       "      <td>51</td>\n",
       "      <td>2020-02-04</td>\n",
       "    </tr>\n",
       "    <tr>\n",
       "      <th>1</th>\n",
       "      <td>10932</td>\n",
       "      <td>2</td>\n",
       "      <td>1</td>\n",
       "      <td>69.0</td>\n",
       "      <td>0.703704</td>\n",
       "      <td>0</td>\n",
       "      <td>2020-02-01 00:08:01</td>\n",
       "      <td>2020-02-01 00:08:01</td>\n",
       "      <td>2020-02-01</td>\n",
       "      <td>2020</td>\n",
       "      <td>2</td>\n",
       "      <td>1</td>\n",
       "      <td>0</td>\n",
       "      <td>8</td>\n",
       "      <td>1</td>\n",
       "      <td>2020-02-04</td>\n",
       "    </tr>\n",
       "    <tr>\n",
       "      <th>2</th>\n",
       "      <td>10932</td>\n",
       "      <td>3</td>\n",
       "      <td>1</td>\n",
       "      <td>67.0</td>\n",
       "      <td>0.560000</td>\n",
       "      <td>0</td>\n",
       "      <td>2020-02-01 00:09:50</td>\n",
       "      <td>2020-02-01 00:09:50</td>\n",
       "      <td>2020-02-01</td>\n",
       "      <td>2020</td>\n",
       "      <td>2</td>\n",
       "      <td>1</td>\n",
       "      <td>0</td>\n",
       "      <td>9</td>\n",
       "      <td>50</td>\n",
       "      <td>2020-02-04</td>\n",
       "    </tr>\n",
       "    <tr>\n",
       "      <th>3</th>\n",
       "      <td>10932</td>\n",
       "      <td>4</td>\n",
       "      <td>1</td>\n",
       "      <td>58.0</td>\n",
       "      <td>0.700000</td>\n",
       "      <td>0</td>\n",
       "      <td>2020-02-01 00:11:16</td>\n",
       "      <td>2020-02-01 00:11:16</td>\n",
       "      <td>2020-02-01</td>\n",
       "      <td>2020</td>\n",
       "      <td>2</td>\n",
       "      <td>1</td>\n",
       "      <td>0</td>\n",
       "      <td>11</td>\n",
       "      <td>16</td>\n",
       "      <td>2020-02-04</td>\n",
       "    </tr>\n",
       "    <tr>\n",
       "      <th>4</th>\n",
       "      <td>10932</td>\n",
       "      <td>5</td>\n",
       "      <td>1</td>\n",
       "      <td>83.0</td>\n",
       "      <td>0.666667</td>\n",
       "      <td>0</td>\n",
       "      <td>2020-02-01 00:13:12</td>\n",
       "      <td>2020-02-01 00:13:12</td>\n",
       "      <td>2020-02-01</td>\n",
       "      <td>2020</td>\n",
       "      <td>2</td>\n",
       "      <td>1</td>\n",
       "      <td>0</td>\n",
       "      <td>13</td>\n",
       "      <td>12</td>\n",
       "      <td>2020-02-04</td>\n",
       "    </tr>\n",
       "  </tbody>\n",
       "</table>\n",
       "</div>"
      ],
      "text/plain": [
       "   user_id  level_id  f_success  f_duration  f_reststep  f_help  \\\n",
       "0    10932         1          1       127.0    0.500000       0   \n",
       "1    10932         2          1        69.0    0.703704       0   \n",
       "2    10932         3          1        67.0    0.560000       0   \n",
       "3    10932         4          1        58.0    0.700000       0   \n",
       "4    10932         5          1        83.0    0.666667       0   \n",
       "\n",
       "                  time           timestamp        date  year  month  day  \\\n",
       "0  2020-02-01 00:05:51 2020-02-01 00:05:51  2020-02-01  2020      2    1   \n",
       "1  2020-02-01 00:08:01 2020-02-01 00:08:01  2020-02-01  2020      2    1   \n",
       "2  2020-02-01 00:09:50 2020-02-01 00:09:50  2020-02-01  2020      2    1   \n",
       "3  2020-02-01 00:11:16 2020-02-01 00:11:16  2020-02-01  2020      2    1   \n",
       "4  2020-02-01 00:13:12 2020-02-01 00:13:12  2020-02-01  2020      2    1   \n",
       "\n",
       "   hour  minute  second user_max_date  \n",
       "0     0       5      51    2020-02-04  \n",
       "1     0       8       1    2020-02-04  \n",
       "2     0       9      50    2020-02-04  \n",
       "3     0      11      16    2020-02-04  \n",
       "4     0      13      12    2020-02-04  "
      ]
     },
     "execution_count": 156,
     "metadata": {},
     "output_type": "execute_result"
    }
   ],
   "source": [
    "seq_df.head()"
   ]
  },
  {
   "cell_type": "code",
   "execution_count": 157,
   "metadata": {},
   "outputs": [
    {
     "data": {
      "text/plain": [
       "user_id\n",
       "1        4\n",
       "2        4\n",
       "3        2\n",
       "4        4\n",
       "5        4\n",
       "        ..\n",
       "13585    3\n",
       "13586    3\n",
       "13587    2\n",
       "13588    2\n",
       "13589    2\n",
       "Name: login_days, Length: 13589, dtype: int64"
      ]
     },
     "execution_count": 157,
     "metadata": {},
     "output_type": "execute_result"
    }
   ],
   "source": [
    "login_days"
   ]
  },
  {
   "cell_type": "code",
   "execution_count": 158,
   "metadata": {},
   "outputs": [
    {
     "name": "stdout",
     "output_type": "stream",
     "text": [
      "   label  login_days  login_times  total_duration  retry_times  pass_rate  \\\n",
      "0      0           4          215         25398.0           90   0.632558   \n",
      "1      0           3          111         18839.0           30   0.738739   \n",
      "2      1           3           69          6119.0           23   0.637681   \n",
      "3      0           4          286         40808.0          137   0.506993   \n",
      "4      1           3          162         32045.0           68   0.672840   \n",
      "\n",
      "   pass_times  \n",
      "0         136  \n",
      "1          82  \n",
      "2          44  \n",
      "3         145  \n",
      "4         109  \n",
      "   login_days  login_times  total_duration  retry_times  pass_rate  pass_times\n",
      "0           4          215         25398.0           90   0.632558         136\n",
      "1           3          111         18839.0           30   0.738739          82\n",
      "2           3           69          6119.0           23   0.637681          44\n",
      "3           4          286         40808.0          137   0.506993         145\n",
      "4           3          162         32045.0           68   0.672840         109\n",
      "0    0\n",
      "1    0\n",
      "2    1\n",
      "3    0\n",
      "4    1\n",
      "Name: label, dtype: int64\n"
     ]
    }
   ],
   "source": [
    "train_with_data = train_df.join(login_days, on='user_id', how='left')\\\n",
    "    .join(login_times, on='user_id', how='left')\\\n",
    "    .join(total_duration, on='user_id', how='left')\\\n",
    "    .join(retry_times, on='user_id', how='left')\\\n",
    "    .join(pass_rate, on='user_id', how='left')\\\n",
    "    .join(pass_times, on='user_id', how='left')\\\n",
    "    .drop(columns=['user_id'])\n",
    "\n",
    "print(train_with_data.head())\n",
    "train_X = train_with_data[['login_days', 'login_times', 'total_duration', 'retry_times', 'pass_rate', 'pass_times']]\n",
    "train_Y = train_with_data['label']\n",
    "\n",
    "print(train_X.head())\n",
    "print(train_Y.head())\n"
   ]
  },
  {
   "cell_type": "code",
   "execution_count": 159,
   "metadata": {},
   "outputs": [
    {
     "name": "stdout",
     "output_type": "stream",
     "text": [
      "   label  login_days  login_times  total_duration  retry_times  pass_rate  \\\n",
      "0      0           4          222         41146.0          107   0.504505   \n",
      "1      1           3           86          9482.0           33   0.604651   \n",
      "2      0           3           97         10707.0           28   0.731959   \n",
      "3      1           3           20          1811.0            5   0.750000   \n",
      "4      0           4          229         33288.0          107   0.524017   \n",
      "\n",
      "   pass_times  \n",
      "0         112  \n",
      "1          52  \n",
      "2          71  \n",
      "3          15  \n",
      "4         120  \n",
      "   login_days  login_times  total_duration  retry_times  pass_rate  pass_times\n",
      "0           4          222         41146.0          107   0.504505         112\n",
      "1           3           86          9482.0           33   0.604651          52\n",
      "2           3           97         10707.0           28   0.731959          71\n",
      "3           3           20          1811.0            5   0.750000          15\n",
      "4           4          229         33288.0          107   0.524017         120\n",
      "0    0\n",
      "1    1\n",
      "2    0\n",
      "3    1\n",
      "4    0\n",
      "Name: label, dtype: int64\n"
     ]
    }
   ],
   "source": [
    "dev_with_data = dev_df.join(login_days, on='user_id', how='left')\\\n",
    "    .join(login_times, on='user_id', how='left')\\\n",
    "    .join(total_duration, on='user_id', how='left')\\\n",
    "    .join(retry_times, on='user_id', how='left')\\\n",
    "    .join(pass_rate, on='user_id', how='left')\\\n",
    "    .join(pass_times, on='user_id', how='left')\\\n",
    "    .drop(columns=['user_id'])\n",
    "\n",
    "print(dev_with_data.head())\n",
    "dev_X = dev_with_data[['login_days', 'login_times', 'total_duration', 'retry_times', 'pass_rate', 'pass_times']]\n",
    "dev_Y = dev_with_data['label']\n",
    "\n",
    "print(dev_X.head())\n",
    "print(dev_Y.head())"
   ]
  },
  {
   "cell_type": "code",
   "execution_count": 160,
   "metadata": {},
   "outputs": [
    {
     "name": "stdout",
     "output_type": "stream",
     "text": [
      "         label\n",
      "user_id       \n",
      "1            1\n",
      "2            0\n",
      "3            1\n",
      "4            0\n",
      "5            0\n",
      "   login_days  login_times  total_duration  retry_times  label  pass_rate  \\\n",
      "0           4          395         38860.0          286      1   0.263291   \n",
      "1           4          237         20190.0          115      0   0.514768   \n",
      "2           2          230         22291.0           87      1   0.608696   \n",
      "3           4          107         13234.0           49      0   0.532710   \n",
      "4           4          238         29454.0          133      0   0.420168   \n",
      "\n",
      "   pass_times  \n",
      "0         104  \n",
      "1         122  \n",
      "2         140  \n",
      "3          57  \n",
      "4         100  \n",
      "   login_days  login_times  total_duration  retry_times  pass_rate  pass_times\n",
      "0           4          395         38860.0          286   0.263291         104\n",
      "1           4          237         20190.0          115   0.514768         122\n",
      "2           2          230         22291.0           87   0.608696         140\n",
      "3           4          107         13234.0           49   0.532710          57\n",
      "4           4          238         29454.0          133   0.420168         100\n",
      "0    1\n",
      "1    0\n",
      "2    1\n",
      "3    0\n",
      "4    0\n",
      "Name: label, dtype: int64\n"
     ]
    }
   ],
   "source": [
    "test_label = pd.read_csv('./Groundtruth.csv', sep=',').rename(columns={'ID': 'user_id', 'Label': 'label'}).set_index('user_id')\n",
    "print(test_label.head())\n",
    "\n",
    "test_with_data = test_df.join(login_days, on='user_id', how='left')\\\n",
    "    .join(login_times, on='user_id', how='left')\\\n",
    "    .join(total_duration, on='user_id', how='left')\\\n",
    "    .join(retry_times, on='user_id', how='left')\\\n",
    "    .join(test_label, on='user_id', how='left')\\\n",
    "    .join(pass_rate, on='user_id', how='left')\\\n",
    "    .join(pass_times, on='user_id', how='left')\\\n",
    "    .drop(columns=['user_id'])\n",
    "\n",
    "print(test_with_data.head())\n",
    "\n",
    "test_X = test_with_data[['login_days', 'login_times', 'total_duration', 'retry_times', 'pass_rate', 'pass_times']]\n",
    "test_Y = test_with_data['label']\n",
    "\n",
    "print(test_X.head())\n",
    "print(test_Y.head())\n"
   ]
  },
  {
   "cell_type": "markdown",
   "metadata": {},
   "source": [
    "### 6.2 观察数据分布"
   ]
  },
  {
   "cell_type": "code",
   "execution_count": 161,
   "metadata": {},
   "outputs": [
    {
     "data": {
      "text/plain": [
       "<Axes: >"
      ]
     },
     "execution_count": 161,
     "metadata": {},
     "output_type": "execute_result"
    },
    {
     "data": {
      "image/png": "[encoded data removed]",
      "text/plain": [
       "<Figure size 1000x1000 with 2 Axes>"
      ]
     },
     "metadata": {},
     "output_type": "display_data"
    }
   ],
   "source": [
    "# 热力图\n",
    "\n",
    "import seaborn as sns\n",
    "import matplotlib.pyplot as plt\n",
    "\n",
    "plt.subplots(figsize=(10, 10))\n",
    "sns.heatmap(train_with_data.corr().round(2), annot=True, cmap='coolwarm')"
   ]
  },
  {
   "cell_type": "markdown",
   "metadata": {},
   "source": [
    "由热力图可以看出，登录天数、登录次数、游戏时长、重试关卡次数、通过次数与流失呈现负相关，流失=1符合预期。\n",
    "通过率越高越容易流失有点不符合直觉。表现出来玩家重试次数越多越容易留下来继续游戏，感觉是挑战性更容易留住用户"
   ]
  },
  {
   "cell_type": "code",
   "execution_count": 162,
   "metadata": {},
   "outputs": [
    {
     "data": {
      "image/png": "[encoded data removed]",
      "text/plain": [
       "<Figure size 1000x500 with 2 Axes>"
      ]
     },
     "metadata": {},
     "output_type": "display_data"
    },
    {
     "data": {
      "image/png": "[encoded data removed]",
      "text/plain": [
       "<Figure size 1000x500 with 2 Axes>"
      ]
     },
     "metadata": {},
     "output_type": "display_data"
    },
    {
     "data": {
      "image/png": "[encoded data removed]",
      "text/plain": [
       "<Figure size 1000x500 with 2 Axes>"
      ]
     },
     "metadata": {},
     "output_type": "display_data"
    },
    {
     "data": {
      "image/png": "[encoded data removed]",
      "text/plain": [
       "<Figure size 1000x500 with 2 Axes>"
      ]
     },
     "metadata": {},
     "output_type": "display_data"
    },
    {
     "data": {
      "image/png": "[encoded data removed]",
      "text/plain": [
       "<Figure size 1000x500 with 2 Axes>"
      ]
     },
     "metadata": {},
     "output_type": "display_data"
    },
    {
     "data": {
      "image/png": "[encoded data removed]",
      "text/plain": [
       "<Figure size 1000x500 with 2 Axes>"
      ]
     },
     "metadata": {},
     "output_type": "display_data"
    }
   ],
   "source": [
    "# 特征分布\n",
    "from collections import Counter\n",
    "\n",
    "for column in train_with_data.drop(columns=['label']).columns:\n",
    "    all = Counter(train_with_data[column])\n",
    "    true_cases = Counter(train_with_data[train_with_data['label'] == 1][column])\n",
    "    false_cases = Counter(train_with_data[train_with_data['label'] == 0][column].fillna(0))\n",
    "    plt.figure(figsize=(10, 5))\n",
    "    plt.subplot(121)\n",
    "    plt.scatter(all.keys(), all.values(), color='blue')\n",
    "    plt.scatter(true_cases.keys(), true_cases.values(), color='green')\n",
    "    plt.subplot(122)\n",
    "    plt.scatter(all.keys(), all.values(), color='blue')\n",
    "    plt.scatter(false_cases.keys(), false_cases.values(), color='red')\n",
    "    plt.title(column)\n",
    "    plt.show()"
   ]
  },
  {
   "cell_type": "markdown",
   "metadata": {},
   "source": [
    " ### 6.3 使用不同模型训练与测试\n",
    "\n",
    " 先简单试一下集成学习的，集合svm、决策树、贝叶斯学习方法。"
   ]
  },
  {
   "cell_type": "code",
   "execution_count": 163,
   "metadata": {},
   "outputs": [],
   "source": [
    "import pandas as pd\n",
    "from sklearn.preprocessing import MinMaxScaler\n",
    "\n",
    "# 数据归一化\n",
    "scaler = MinMaxScaler()\n",
    "\n",
    "train_x = np.array(scaler.fit_transform(train_X))\n",
    "dev_x = np.array(scaler.transform(dev_X))\n",
    "test_x = np.array(scaler.transform(test_X))\n"
   ]
  },
  {
   "cell_type": "code",
   "execution_count": 164,
   "metadata": {},
   "outputs": [],
   "source": [
    "from sklearn.svm import LinearSVC\n",
    "from sklearn.tree import DecisionTreeClassifier\n",
    "from sklearn.calibration import CalibratedClassifierCV\n",
    "from sklearn.naive_bayes import MultinomialNB\n",
    "\n",
    "RANDOM_SEED = 20250801\n",
    "classifiers = {\n",
    "    'LinerSVM': CalibratedClassifierCV(LinearSVC(loss='squared_hinge', dual=False, random_state=RANDOM_SEED)),\n",
    "    'DecisionTree': DecisionTreeClassifier(max_depth=10, random_state=RANDOM_SEED),\n",
    "    'MultBayes': MultinomialNB(alpha=1.0, fit_prior=True, class_prior=None)\n",
    "}\n"
   ]
  },
  {
   "cell_type": "code",
   "execution_count": 165,
   "metadata": {},
   "outputs": [
    {
     "name": "stdout",
     "output_type": "stream",
     "text": [
      "bagging LinerSVM dev_auc: 0.745540748058977\n",
      "boosting LinerSVM dev_auc: 0.7548357387005017\n",
      "bagging DecisionTree dev_auc: 0.7007555634446516\n",
      "boosting DecisionTree dev_auc: 0.7190186455699321\n",
      "bagging MultBayes dev_auc: 0.6992827800894093\n",
      "boosting MultBayes dev_auc: 0.7051382230709318\n"
     ]
    }
   ],
   "source": [
    "from sklearn.ensemble import BaggingClassifier\n",
    "from sklearn.metrics import roc_auc_score\n",
    "from sklearn.ensemble import AdaBoostClassifier\n",
    "\n",
    "for name, classifier in classifiers.items():\n",
    "    bagging_classifier = BaggingClassifier(estimator=classifier, n_estimators=2, random_state=RANDOM_SEED, max_samples=0.6, max_features=0.6, bootstrap=True, bootstrap_features=True, n_jobs=1)\n",
    "    bagging_classifier.fit(train_X, train_Y)\n",
    "    dev_pred = bagging_classifier.predict_proba(dev_X)[:, 1]\n",
    "    print(f'bagging {name} dev_auc: {roc_auc_score(dev_Y, dev_pred)}')\n",
    "    boosting_classifier = AdaBoostClassifier(estimator=classifier, n_estimators=30, learning_rate=1, random_state=RANDOM_SEED, algorithm='SAMME')\n",
    "    boosting_classifier.fit(train_X, train_Y)\n",
    "    dev_pred = boosting_classifier.predict_proba(dev_X)[:, 1]\n",
    "    print(f'boosting {name} dev_auc: {roc_auc_score(dev_Y, dev_pred)}')"
   ]
  },
  {
   "cell_type": "code",
   "execution_count": 166,
   "metadata": {},
   "outputs": [
    {
     "name": "stdout",
     "output_type": "stream",
     "text": [
      "voting dev_auc: 0.7458006881622077\n"
     ]
    }
   ],
   "source": [
    "from sklearn.ensemble import VotingClassifier\n",
    "from sklearn.metrics import roc_auc_score\n",
    "\n",
    "vc = VotingClassifier(estimators=list(classifiers.items()), voting='soft')\n",
    "vc.fit(train_X, train_Y)\n",
    "dev_pred = vc.predict_proba(dev_X)[:, 1]\n",
    "print(f'voting dev_auc: {roc_auc_score(dev_Y, dev_pred)}')"
   ]
  },
  {
   "cell_type": "code",
   "execution_count": 167,
   "metadata": {},
   "outputs": [
    {
     "name": "stdout",
     "output_type": "stream",
     "text": [
      "rf_prev_dev_auc: 0.7394411572040679\n"
     ]
    }
   ],
   "source": [
    "# 随机森林测试AUC\n",
    "\n",
    "from sklearn.ensemble import RandomForestClassifier\n",
    "\n",
    "rf = RandomForestClassifier(n_estimators=100, bootstrap=True, random_state=RANDOM_SEED)\n",
    "rf.fit(train_X, train_Y)\n",
    "rf_prev_dev = rf.predict_proba(dev_X)[:, 1]\n",
    "\n",
    "print(f'rf_prev_dev_auc: {roc_auc_score(dev_Y, rf_prev_dev)}')\n"
   ]
  },
  {
   "cell_type": "markdown",
   "metadata": {},
   "source": [
    "### 6.4 最终结果\n",
    "\n",
    "- bagging LinerSVM dev_auc: 0.745540748058977\n",
    "- boosting LinerSVM dev_auc: 0.7548357387005017\n",
    "- bagging DecisionTree dev_auc: 0.7007555634446516\n",
    "- boosting DecisionTree dev_auc: 0.7190186455699321\n",
    "- bagging MultBayes dev_auc: 0.6992827800894093\n",
    "- boosting MultBayes dev_auc: 0.7051382230709318\n",
    "- voting dev_auc: 0.7458006881622077\n",
    "- rf_prev_dev_auc: 0.7394411572040679\n",
    "\n",
    "\n",
    "根据上面运行结果，最终方案是 boosting LinerSVM。\n",
    "集成学习相比于单个模型更有优势。整体来看boosting 要比 bagging性能更高，这可能是因为噪声影响较弱，也可能是学习器上较稳定在boosting表现上更优。"
   ]
  },
  {
   "cell_type": "code",
   "execution_count": 168,
   "metadata": {},
   "outputs": [
    {
     "name": "stdout",
     "output_type": "stream",
     "text": [
      "result_classifier test_auc: 0.7444682000662317\n"
     ]
    }
   ],
   "source": [
    "result_classifier = AdaBoostClassifier(estimator=classifiers['LinerSVM'], n_estimators=30, learning_rate=1, random_state=RANDOM_SEED, algorithm='SAMME')\n",
    "result_classifier.fit(train_X, train_Y)\n",
    "test_pred = result_classifier.predict_proba(test_X)[:, 1]\n",
    "print(f'result_classifier test_auc: {roc_auc_score(test_Y, test_pred)}')"
   ]
  },
  {
   "cell_type": "markdown",
   "metadata": {},
   "source": []
  }
 ],
 "metadata": {
  "kernelspec": {
   "display_name": "base",
   "language": "python",
   "name": "python3"
  },
  "language_info": {
   "codemirror_mode": {
    "name": "ipython",
    "version": 3
   },
   "file_extension": ".py",
   "mimetype": "text/x-python",
   "name": "python",
   "nbconvert_exporter": "python",
   "pygments_lexer": "ipython3",
   "version": "3.12.7"
  }
 },
 "nbformat": 4,
 "nbformat_minor": 4
}
